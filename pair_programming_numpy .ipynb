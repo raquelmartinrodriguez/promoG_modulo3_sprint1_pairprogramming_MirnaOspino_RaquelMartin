{
 "cells": [
  {
   "cell_type": "markdown",
   "metadata": {},
   "source": [
    "# Creación y Indexación:"
   ]
  },
  {
   "cell_type": "code",
   "execution_count": 2,
   "metadata": {},
   "outputs": [],
   "source": [
    "import numpy as np"
   ]
  },
  {
   "cell_type": "markdown",
   "metadata": {},
   "source": [
    "1. Crea un array 1D con 50 valores aleatorio del 10 al 99. Accede a los elementos en las posiciones múltiplos de 5."
   ]
  },
  {
   "cell_type": "code",
   "execution_count": 4,
   "metadata": {},
   "outputs": [
    {
     "data": {
      "text/plain": [
       "array([48, 19, 53, 53, 89, 89, 20, 16, 38, 16, 94, 95, 68, 44, 20, 20, 27,\n",
       "       71, 45, 71, 33, 53, 52, 42, 76, 27, 20, 71, 13, 66, 77, 98, 78, 63,\n",
       "       94, 19, 35, 79, 23, 10, 37, 85, 35, 29, 69, 47, 84, 57, 10, 37])"
      ]
     },
     "execution_count": 4,
     "metadata": {},
     "output_type": "execute_result"
    }
   ],
   "source": [
    "array1 = np.random.randint (10,100, (50))\n",
    "array1"
   ]
  },
  {
   "cell_type": "code",
   "execution_count": 19,
   "metadata": {},
   "outputs": [
    {
     "data": {
      "text/plain": [
       "array([48, 89, 94, 20, 33, 27, 77, 19, 37, 47])"
      ]
     },
     "execution_count": 19,
     "metadata": {},
     "output_type": "execute_result"
    }
   ],
   "source": [
    "array1[::5]\n"
   ]
  },
  {
   "cell_type": "markdown",
   "metadata": {},
   "source": [
    "2. Crea un array 1D con 30 valores del 1 al 20 (ambos incluidos). Utiliza indexación para obtener los elementos en las posiciones impares."
   ]
  },
  {
   "cell_type": "code",
   "execution_count": 16,
   "metadata": {},
   "outputs": [
    {
     "data": {
      "text/plain": [
       "array([11,  3, 15, 10, 11, 13,  3, 20,  3, 20,  4,  3, 14, 10,  8, 10,  7,\n",
       "        3,  2, 17,  5,  5,  7, 14,  2, 14, 11,  2,  7,  8])"
      ]
     },
     "execution_count": 16,
     "metadata": {},
     "output_type": "execute_result"
    }
   ],
   "source": [
    "array2 = np.random.randint (1,21,(30))\n",
    "array2"
   ]
  },
  {
   "cell_type": "code",
   "execution_count": 20,
   "metadata": {},
   "outputs": [
    {
     "data": {
      "text/plain": [
       "array([ 3, 10, 13, 20, 20,  3, 10, 10,  3, 17,  5, 14, 14,  2,  8])"
      ]
     },
     "execution_count": 20,
     "metadata": {},
     "output_type": "execute_result"
    }
   ],
   "source": [
    "array2[1::2]"
   ]
  },
  {
   "cell_type": "markdown",
   "metadata": {},
   "source": [
    "3. Crea un array 2D de forma (4, 6) con números aleatorios decimales (no deben estar comprendidos solo entre 0 y 1). Accede a la última fila de la matriz. Los decimales deben estar redondeados a 2 decimales."
   ]
  },
  {
   "cell_type": "code",
   "execution_count": 29,
   "metadata": {},
   "outputs": [
    {
     "data": {
      "text/plain": [
       "array([[5.79, 1.56, 1.03, 8.06, 7.74, 4.31],\n",
       "       [7.59, 8.23, 4.12, 5.2 , 5.88, 6.9 ],\n",
       "       [4.42, 5.34, 3.54, 5.  , 2.5 , 6.15],\n",
       "       [7.95, 2.03, 7.31, 2.95, 1.64, 3.09]])"
      ]
     },
     "execution_count": 29,
     "metadata": {},
     "output_type": "execute_result"
    }
   ],
   "source": [
    "array3 = np.round(np.random.uniform(1, 9, (4, 6)), decimals=2)\n",
    "array3"
   ]
  },
  {
   "cell_type": "code",
   "execution_count": 27,
   "metadata": {},
   "outputs": [
    {
     "data": {
      "text/plain": [
       "array([7.36, 8.78, 4.45, 3.82, 2.44, 1.84])"
      ]
     },
     "execution_count": 27,
     "metadata": {},
     "output_type": "execute_result"
    }
   ],
   "source": [
    "array3 [-1]"
   ]
  },
  {
   "cell_type": "markdown",
   "metadata": {},
   "source": [
    "4. Crea un array NumPy 2D de forma (6, 4) con valores decimales entre 0 y 1. Accede a la segunda columna de la matriz. Los números deben estar redondeados a 2 decimales."
   ]
  },
  {
   "cell_type": "code",
   "execution_count": 30,
   "metadata": {},
   "outputs": [
    {
     "data": {
      "text/plain": [
       "array([[0.4 , 0.98, 0.47, 0.46],\n",
       "       [0.54, 0.47, 0.75, 0.98],\n",
       "       [0.85, 0.28, 0.39, 0.27],\n",
       "       [0.08, 0.36, 0.84, 0.03],\n",
       "       [0.22, 0.8 , 0.71, 0.64],\n",
       "       [0.24, 0.38, 0.09, 0.06]])"
      ]
     },
     "execution_count": 30,
     "metadata": {},
     "output_type": "execute_result"
    }
   ],
   "source": [
    "array4 = np.round(np.random.rand (6,4), decimals = 2)\n",
    "array4"
   ]
  },
  {
   "cell_type": "code",
   "execution_count": 33,
   "metadata": {},
   "outputs": [
    {
     "data": {
      "text/plain": [
       "array([0.98, 0.47, 0.28, 0.36, 0.8 , 0.38])"
      ]
     },
     "execution_count": 33,
     "metadata": {},
     "output_type": "execute_result"
    }
   ],
   "source": [
    "array4[:,1]"
   ]
  },
  {
   "cell_type": "markdown",
   "metadata": {},
   "source": [
    "5. Crea un array 1D con 30 valores enteros aleatorios entre -50 y 50. Extrae los valores negativos."
   ]
  },
  {
   "cell_type": "code",
   "execution_count": 36,
   "metadata": {},
   "outputs": [
    {
     "data": {
      "text/plain": [
       "array([-12,  20,  14,  24,  32,  39,  15,  45,  27, -45,   0,  19, -24,\n",
       "        35,  41, -39,  38, -48, -14,  -8, -42, -19,  39,   6, -34,  32,\n",
       "       -22, -17,  45,  20])"
      ]
     },
     "execution_count": 36,
     "metadata": {},
     "output_type": "execute_result"
    }
   ],
   "source": [
    "array5 = np.random.randint (-50, 51, (30))\n",
    "array5"
   ]
  },
  {
   "cell_type": "code",
   "execution_count": 38,
   "metadata": {},
   "outputs": [
    {
     "data": {
      "text/plain": [
       "array([-12, -45, -24, -39, -48, -14,  -8, -42, -19, -34, -22, -17])"
      ]
     },
     "execution_count": 38,
     "metadata": {},
     "output_type": "execute_result"
    }
   ],
   "source": [
    "array_negativos = array5[array5 < 0]\n",
    "array_negativos"
   ]
  },
  {
   "cell_type": "markdown",
   "metadata": {},
   "source": [
    "6. Crea un array 1D con 10 valores entre 0 y 1. Redondea los decimales a 2. Obtén los elementos cuyo valor es mayor que 0.5. ¿En que posición/es están esos elementos?"
   ]
  },
  {
   "cell_type": "code",
   "execution_count": 40,
   "metadata": {},
   "outputs": [
    {
     "data": {
      "text/plain": [
       "array([0.55, 0.94, 0.89, 0.23, 0.51, 0.97, 0.6 , 0.89, 0.89, 0.23])"
      ]
     },
     "execution_count": 40,
     "metadata": {},
     "output_type": "execute_result"
    }
   ],
   "source": [
    "array6 = np.round (np.random.rand(10), decimals=2)\n",
    "array6"
   ]
  },
  {
   "cell_type": "code",
   "execution_count": 41,
   "metadata": {},
   "outputs": [
    {
     "data": {
      "text/plain": [
       "array([0.55, 0.94, 0.89, 0.51, 0.97, 0.6 , 0.89, 0.89])"
      ]
     },
     "execution_count": 41,
     "metadata": {},
     "output_type": "execute_result"
    }
   ],
   "source": [
    "array = array6 [array6 >0.5]\n",
    "array"
   ]
  },
  {
   "cell_type": "markdown",
   "metadata": {},
   "source": [
    "7. Crea un array 1D con 40 valores del 1 al 100 (ambos incluidos). Obtén los elementos que son divisibles por 3 y por 4."
   ]
  },
  {
   "cell_type": "code",
   "execution_count": 42,
   "metadata": {},
   "outputs": [
    {
     "data": {
      "text/plain": [
       "array([ 22,  21, 100,  44,  52,  26,  29,  91,  32,  54,  40,  77,  44,\n",
       "        10,  33,  63,  49,   8,   4,  68,  97,  83,  11,  18,  84,  51,\n",
       "        12,  75,  96,  18,  99,  75,  71,  97,  68,  22,  82,  96,  83,\n",
       "        42])"
      ]
     },
     "execution_count": 42,
     "metadata": {},
     "output_type": "execute_result"
    }
   ],
   "source": [
    "array7 = np.random.randint (1,101,(40))\n",
    "array7"
   ]
  },
  {
   "cell_type": "code",
   "execution_count": 45,
   "metadata": {},
   "outputs": [
    {
     "data": {
      "text/plain": [
       "array([33, 18, 51, 75, 96, 18, 99, 75, 96, 42])"
      ]
     },
     "execution_count": 45,
     "metadata": {},
     "output_type": "execute_result"
    }
   ],
   "source": [
    "array_7 = array7 [(array7 %3 == 0) & (array7 &4 == 0)]\n",
    "array_7"
   ]
  },
  {
   "cell_type": "markdown",
   "metadata": {},
   "source": [
    "8. BONUS: Crea un array 3D de forma (2, 3, 5) y 50 elementos con números enteros entre 0 y 100 (ambos incluidos). Reemplaza los elementos en posiciones múltiplos de 3 por 0."
   ]
  },
  {
   "cell_type": "code",
   "execution_count": 84,
   "metadata": {},
   "outputs": [
    {
     "data": {
      "text/plain": [
       "array([44, 12, 80,  5, 62, 87, 36, 49, 31, 37, 95, 32, 43, 35, 38,  4, 49,\n",
       "       29, 76,  4, 63, 50, 41, 54, 36, 15, 25,  7, 36, 90, 13, 10, 36, 11,\n",
       "        5, 58, 92, 67, 55, 57,  3, 16, 17, 80, 12, 59, 72, 18, 70, 51])"
      ]
     },
     "execution_count": 84,
     "metadata": {},
     "output_type": "execute_result"
    }
   ],
   "source": [
    "array8 = np.random.randint (0,101,50)\n",
    "array8"
   ]
  },
  {
   "cell_type": "code",
   "execution_count": 85,
   "metadata": {},
   "outputs": [],
   "source": [
    "array8 [array8 %3 == 0 ] = 0"
   ]
  },
  {
   "cell_type": "code",
   "execution_count": null,
   "metadata": {},
   "outputs": [],
   "source": [
    "#no es posible hacerlo, porque en un array de dimensiones 2,3,5 sólo caben 30 elementos. Podríamos hacerlo con un array de 30 elementos\n",
    "reshaped_array = np.reshape (array8, (2,3,5))\n",
    "reshaped_array"
   ]
  },
  {
   "cell_type": "markdown",
   "metadata": {},
   "source": [
    "# Reshape y Transpose:"
   ]
  },
  {
   "cell_type": "markdown",
   "metadata": {},
   "source": [
    "1. Crea un array 3D de forma (2, 3, 4) con valores aleatorios entre 1 y 100 (ambos inclusive). Utiliza reshape para convertirlo en un array 2D. Deberás pensar en la forma que es correcta para hacer este cambio."
   ]
  },
  {
   "cell_type": "code",
   "execution_count": 70,
   "metadata": {},
   "outputs": [
    {
     "data": {
      "text/plain": [
       "array([[[ 9, 71,  9, 92],\n",
       "        [10, 15, 48, 88],\n",
       "        [32, 76, 11, 40]],\n",
       "\n",
       "       [[79, 80, 88, 15],\n",
       "        [62, 59, 38, 74],\n",
       "        [67, 30, 37, 71]]])"
      ]
     },
     "execution_count": 70,
     "metadata": {},
     "output_type": "execute_result"
    }
   ],
   "source": [
    "array_1 = np.random.randint (1,101, (2,3,4))\n",
    "array_1"
   ]
  },
  {
   "cell_type": "code",
   "execution_count": 77,
   "metadata": {},
   "outputs": [
    {
     "data": {
      "text/plain": [
       "array([[ 9, 71,  9, 92],\n",
       "       [10, 15, 48, 88],\n",
       "       [32, 76, 11, 40],\n",
       "       [79, 80, 88, 15],\n",
       "       [62, 59, 38, 74],\n",
       "       [67, 30, 37, 71]])"
      ]
     },
     "execution_count": 77,
     "metadata": {},
     "output_type": "execute_result"
    }
   ],
   "source": [
    "reshaped_array = np.reshape (array_1, (6,4))\n",
    "reshaped_array"
   ]
  },
  {
   "cell_type": "code",
   "execution_count": 78,
   "metadata": {},
   "outputs": [
    {
     "data": {
      "text/plain": [
       "array([[ 9, 71,  9, 92],\n",
       "       [10, 15, 48, 88],\n",
       "       [32, 76, 11, 40],\n",
       "       [79, 80, 88, 15],\n",
       "       [62, 59, 38, 74],\n",
       "       [67, 30, 37, 71]])"
      ]
     },
     "execution_count": 78,
     "metadata": {},
     "output_type": "execute_result"
    }
   ],
   "source": [
    "#otra forma de hacerlo sería:\n",
    "reshaped_array = np.reshape (array_1, (-1,4))\n",
    "reshaped_array"
   ]
  },
  {
   "cell_type": "markdown",
   "metadata": {},
   "source": [
    "2. Crea un array 3D de forma (3, 4, 5) con valores enteros del 1 al 60 (sin incluir). Utiliza reshape para convertirlo en un array 2D."
   ]
  },
  {
   "cell_type": "code",
   "execution_count": 88,
   "metadata": {},
   "outputs": [
    {
     "data": {
      "text/plain": [
       "array([[[26,  3, 58, 24, 57],\n",
       "        [50, 16,  2, 42, 19],\n",
       "        [16, 45, 18, 17, 36],\n",
       "        [ 2, 34, 16, 12, 56]],\n",
       "\n",
       "       [[37, 58, 46,  6, 41],\n",
       "        [51, 18, 22,  1,  5],\n",
       "        [26, 55,  2, 16, 55],\n",
       "        [47, 39,  5, 32, 30]],\n",
       "\n",
       "       [[23, 26, 43, 34, 23],\n",
       "        [20, 20, 42,  9, 33],\n",
       "        [57, 22, 46, 58, 58],\n",
       "        [28, 52, 42, 57, 27]]])"
      ]
     },
     "execution_count": 88,
     "metadata": {},
     "output_type": "execute_result"
    }
   ],
   "source": [
    "array_2 = np.random.randint (1,60, (3,4,5))\n",
    "array_2"
   ]
  },
  {
   "cell_type": "code",
   "execution_count": 89,
   "metadata": {},
   "outputs": [
    {
     "data": {
      "text/plain": [
       "array([[26,  3, 58, 24, 57, 50, 16,  2, 42, 19],\n",
       "       [16, 45, 18, 17, 36,  2, 34, 16, 12, 56],\n",
       "       [37, 58, 46,  6, 41, 51, 18, 22,  1,  5],\n",
       "       [26, 55,  2, 16, 55, 47, 39,  5, 32, 30],\n",
       "       [23, 26, 43, 34, 23, 20, 20, 42,  9, 33],\n",
       "       [57, 22, 46, 58, 58, 28, 52, 42, 57, 27]])"
      ]
     },
     "execution_count": 89,
     "metadata": {},
     "output_type": "execute_result"
    }
   ],
   "source": [
    "reshaped_array_2 = np.reshape (array_2, (6,10))\n",
    "reshaped_array_2"
   ]
  },
  {
   "cell_type": "markdown",
   "metadata": {},
   "source": [
    "3. Crea un array 3D de forma (4, 3, 2) con valores aleatorios entre 0 y 1. Utiliza reshape para convertirlo en un array 2D."
   ]
  },
  {
   "cell_type": "code",
   "execution_count": 90,
   "metadata": {},
   "outputs": [
    {
     "data": {
      "text/plain": [
       "array([[[0.48220652, 0.68691571],\n",
       "        [0.56134045, 0.40421022],\n",
       "        [0.68290611, 0.59784142]],\n",
       "\n",
       "       [[0.9744647 , 0.39526876],\n",
       "        [0.73116893, 0.17452842],\n",
       "        [0.28294793, 0.22928928]],\n",
       "\n",
       "       [[0.54133036, 0.92804078],\n",
       "        [0.16355309, 0.05231832],\n",
       "        [0.03919102, 0.95554821]],\n",
       "\n",
       "       [[0.69564846, 0.13319862],\n",
       "        [0.74408248, 0.14366771],\n",
       "        [0.87754125, 0.56242653]]])"
      ]
     },
     "execution_count": 90,
     "metadata": {},
     "output_type": "execute_result"
    }
   ],
   "source": [
    "array_3 = np.random.rand (4,3,2)\n",
    "array_3"
   ]
  },
  {
   "cell_type": "code",
   "execution_count": 95,
   "metadata": {},
   "outputs": [
    {
     "data": {
      "text/plain": [
       "array([[0.48220652, 0.68691571, 0.56134045, 0.40421022, 0.68290611,\n",
       "        0.59784142, 0.9744647 , 0.39526876],\n",
       "       [0.73116893, 0.17452842, 0.28294793, 0.22928928, 0.54133036,\n",
       "        0.92804078, 0.16355309, 0.05231832],\n",
       "       [0.03919102, 0.95554821, 0.69564846, 0.13319862, 0.74408248,\n",
       "        0.14366771, 0.87754125, 0.56242653]])"
      ]
     },
     "execution_count": 95,
     "metadata": {},
     "output_type": "execute_result"
    }
   ],
   "source": [
    "reshaped_3 = np.reshape (array_3, (3,8))\n",
    "reshaped_3"
   ]
  },
  {
   "cell_type": "markdown",
   "metadata": {},
   "source": [
    "# Ejercicios con transpose:"
   ]
  },
  {
   "cell_type": "markdown",
   "metadata": {},
   "source": [
    "1. Utiliza el array 3D del ejercicio 2 de reshape. Utiliza transpose para permutar los ejes y obtener un nuevo array con forma (5, 4, 3)."
   ]
  },
  {
   "cell_type": "code",
   "execution_count": 97,
   "metadata": {},
   "outputs": [
    {
     "data": {
      "text/plain": [
       "array([[[26,  3, 58, 24, 57],\n",
       "        [50, 16,  2, 42, 19],\n",
       "        [16, 45, 18, 17, 36],\n",
       "        [ 2, 34, 16, 12, 56]],\n",
       "\n",
       "       [[37, 58, 46,  6, 41],\n",
       "        [51, 18, 22,  1,  5],\n",
       "        [26, 55,  2, 16, 55],\n",
       "        [47, 39,  5, 32, 30]],\n",
       "\n",
       "       [[23, 26, 43, 34, 23],\n",
       "        [20, 20, 42,  9, 33],\n",
       "        [57, 22, 46, 58, 58],\n",
       "        [28, 52, 42, 57, 27]]])"
      ]
     },
     "execution_count": 97,
     "metadata": {},
     "output_type": "execute_result"
    }
   ],
   "source": [
    "array_2"
   ]
  },
  {
   "cell_type": "code",
   "execution_count": 99,
   "metadata": {},
   "outputs": [
    {
     "data": {
      "text/plain": [
       "array([[[26, 37, 23],\n",
       "        [50, 51, 20],\n",
       "        [16, 26, 57],\n",
       "        [ 2, 47, 28]],\n",
       "\n",
       "       [[ 3, 58, 26],\n",
       "        [16, 18, 20],\n",
       "        [45, 55, 22],\n",
       "        [34, 39, 52]],\n",
       "\n",
       "       [[58, 46, 43],\n",
       "        [ 2, 22, 42],\n",
       "        [18,  2, 46],\n",
       "        [16,  5, 42]],\n",
       "\n",
       "       [[24,  6, 34],\n",
       "        [42,  1,  9],\n",
       "        [17, 16, 58],\n",
       "        [12, 32, 57]],\n",
       "\n",
       "       [[57, 41, 23],\n",
       "        [19,  5, 33],\n",
       "        [36, 55, 58],\n",
       "        [56, 30, 27]]])"
      ]
     },
     "execution_count": 99,
     "metadata": {},
     "output_type": "execute_result"
    }
   ],
   "source": [
    "transposed_array = np.transpose (array_2)\n",
    "transposed_array"
   ]
  },
  {
   "cell_type": "markdown",
   "metadata": {},
   "source": [
    "5. Utiliza el array 3D del ejercicio 3 de reshape. Utiliza transpose para cambiar el orden de los ejes y obtener un nuevo array con forma (3, 2, 4)."
   ]
  },
  {
   "cell_type": "code",
   "execution_count": 100,
   "metadata": {},
   "outputs": [
    {
     "data": {
      "text/plain": [
       "array([[[0.48220652, 0.68691571],\n",
       "        [0.56134045, 0.40421022],\n",
       "        [0.68290611, 0.59784142]],\n",
       "\n",
       "       [[0.9744647 , 0.39526876],\n",
       "        [0.73116893, 0.17452842],\n",
       "        [0.28294793, 0.22928928]],\n",
       "\n",
       "       [[0.54133036, 0.92804078],\n",
       "        [0.16355309, 0.05231832],\n",
       "        [0.03919102, 0.95554821]],\n",
       "\n",
       "       [[0.69564846, 0.13319862],\n",
       "        [0.74408248, 0.14366771],\n",
       "        [0.87754125, 0.56242653]]])"
      ]
     },
     "execution_count": 100,
     "metadata": {},
     "output_type": "execute_result"
    }
   ],
   "source": [
    "array_3"
   ]
  },
  {
   "cell_type": "code",
   "execution_count": 103,
   "metadata": {},
   "outputs": [
    {
     "data": {
      "text/plain": [
       "24"
      ]
     },
     "execution_count": 103,
     "metadata": {},
     "output_type": "execute_result"
    }
   ],
   "source": [
    "np.size (array_3)"
   ]
  },
  {
   "cell_type": "code",
   "execution_count": 108,
   "metadata": {},
   "outputs": [
    {
     "data": {
      "text/plain": [
       "(4, 3, 2)"
      ]
     },
     "execution_count": 108,
     "metadata": {},
     "output_type": "execute_result"
    }
   ],
   "source": [
    "np.shape (array_3)"
   ]
  },
  {
   "cell_type": "code",
   "execution_count": 109,
   "metadata": {},
   "outputs": [
    {
     "data": {
      "text/plain": [
       "array([[[0.48220652, 0.9744647 , 0.54133036, 0.69564846],\n",
       "        [0.68691571, 0.39526876, 0.92804078, 0.13319862]],\n",
       "\n",
       "       [[0.56134045, 0.73116893, 0.16355309, 0.74408248],\n",
       "        [0.40421022, 0.17452842, 0.05231832, 0.14366771]],\n",
       "\n",
       "       [[0.68290611, 0.28294793, 0.03919102, 0.87754125],\n",
       "        [0.59784142, 0.22928928, 0.95554821, 0.56242653]]])"
      ]
     },
     "execution_count": 109,
     "metadata": {},
     "output_type": "execute_result"
    }
   ],
   "source": [
    "#al transpose se le indican los índices del shape original\n",
    "transposed_array2 = np.transpose (array_3, (1,2,0))\n",
    "transposed_array2"
   ]
  }
 ],
 "metadata": {
  "kernelspec": {
   "display_name": "base",
   "language": "python",
   "name": "python3"
  },
  "language_info": {
   "codemirror_mode": {
    "name": "ipython",
    "version": 3
   },
   "file_extension": ".py",
   "mimetype": "text/x-python",
   "name": "python",
   "nbconvert_exporter": "python",
   "pygments_lexer": "ipython3",
   "version": "3.9.7"
  }
 },
 "nbformat": 4,
 "nbformat_minor": 2
}
