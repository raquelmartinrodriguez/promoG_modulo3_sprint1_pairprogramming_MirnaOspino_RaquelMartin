{
 "cells": [
  {
   "cell_type": "markdown",
   "metadata": {},
   "source": [
    "# Pair programming Numpy"
   ]
  },
  {
   "cell_type": "markdown",
   "metadata": {},
   "source": [
    "## Creación y Indexación:"
   ]
  },
  {
   "cell_type": "code",
   "execution_count": 1,
   "metadata": {},
   "outputs": [],
   "source": [
    "# en primer lugar, importamos la libreria para poder trabajar con NUMPY\n",
    "import numpy as np"
   ]
  },
  {
   "cell_type": "markdown",
   "metadata": {},
   "source": [
    "1. Crea un array 1D con 50 valores aleatorio del 10 al 99. Accede a los elementos en las posiciones múltiplos de 5."
   ]
  },
  {
   "cell_type": "code",
   "execution_count": 2,
   "metadata": {},
   "outputs": [
    {
     "data": {
      "text/plain": [
       "array([67, 61, 90, 18, 87, 74, 46, 83, 90, 38, 81, 28, 70, 18, 39, 69, 35,\n",
       "       44, 98, 45, 26, 30, 46, 27, 14, 68, 23, 88, 90, 85, 39, 46, 93, 74,\n",
       "       51, 92, 68, 44, 54, 23, 18, 85, 69, 91, 82, 92, 11, 56, 35, 89])"
      ]
     },
     "execution_count": 2,
     "metadata": {},
     "output_type": "execute_result"
    }
   ],
   "source": [
    "array1 = np.random.randint (10,100, (50))\n",
    "array1"
   ]
  },
  {
   "cell_type": "code",
   "execution_count": 3,
   "metadata": {},
   "outputs": [
    {
     "data": {
      "text/plain": [
       "array([67, 74, 81, 69, 26, 68, 39, 92, 18, 92])"
      ]
     },
     "execution_count": 3,
     "metadata": {},
     "output_type": "execute_result"
    }
   ],
   "source": [
    "array1[::5]\n"
   ]
  },
  {
   "cell_type": "markdown",
   "metadata": {},
   "source": [
    "2. Crea un array 1D con 30 valores del 1 al 20 (ambos incluidos). Utiliza indexación para obtener los elementos en las posiciones impares."
   ]
  },
  {
   "cell_type": "code",
   "execution_count": 4,
   "metadata": {},
   "outputs": [
    {
     "data": {
      "text/plain": [
       "array([17, 13, 19, 13,  5,  5, 13, 14,  8,  7, 20,  6, 20,  1,  3,  2, 13,\n",
       "       12, 11,  1,  7,  7, 13,  9,  5,  3,  7, 20,  4, 15])"
      ]
     },
     "execution_count": 4,
     "metadata": {},
     "output_type": "execute_result"
    }
   ],
   "source": [
    "array2 = np.random.randint (1,21,(30))\n",
    "array2"
   ]
  },
  {
   "cell_type": "code",
   "execution_count": 5,
   "metadata": {},
   "outputs": [
    {
     "data": {
      "text/plain": [
       "array([13, 13,  5, 14,  7,  6,  1,  2, 12,  1,  7,  9,  3, 20, 15])"
      ]
     },
     "execution_count": 5,
     "metadata": {},
     "output_type": "execute_result"
    }
   ],
   "source": [
    "array2[1::2]"
   ]
  },
  {
   "cell_type": "markdown",
   "metadata": {},
   "source": [
    "3. Crea un array 2D de forma (4, 6) con números aleatorios decimales (no deben estar comprendidos solo entre 0 y 1). Accede a la última fila de la matriz. Los decimales deben estar redondeados a 2 decimales."
   ]
  },
  {
   "cell_type": "code",
   "execution_count": 6,
   "metadata": {},
   "outputs": [
    {
     "data": {
      "text/plain": [
       "array([[8.4 , 3.17, 7.3 , 2.55, 5.98, 1.78],\n",
       "       [2.2 , 7.19, 2.39, 2.18, 7.01, 2.26],\n",
       "       [3.24, 2.65, 8.63, 4.35, 7.  , 2.31],\n",
       "       [5.19, 5.97, 5.2 , 6.44, 5.33, 7.9 ]])"
      ]
     },
     "execution_count": 6,
     "metadata": {},
     "output_type": "execute_result"
    }
   ],
   "source": [
    "array3 = np.round(np.random.uniform(1, 9, (4, 6)), decimals=2)\n",
    "array3"
   ]
  },
  {
   "cell_type": "code",
   "execution_count": 7,
   "metadata": {},
   "outputs": [
    {
     "data": {
      "text/plain": [
       "array([5.19, 5.97, 5.2 , 6.44, 5.33, 7.9 ])"
      ]
     },
     "execution_count": 7,
     "metadata": {},
     "output_type": "execute_result"
    }
   ],
   "source": [
    "array3 [-1]"
   ]
  },
  {
   "cell_type": "markdown",
   "metadata": {},
   "source": [
    "4. Crea un array NumPy 2D de forma (6, 4) con valores decimales entre 0 y 1. Accede a la segunda columna de la matriz. Los números deben estar redondeados a 2 decimales."
   ]
  },
  {
   "cell_type": "code",
   "execution_count": 8,
   "metadata": {},
   "outputs": [
    {
     "data": {
      "text/plain": [
       "array([[0.39, 0.73, 0.49, 0.69],\n",
       "       [0.59, 1.  , 0.92, 0.43],\n",
       "       [0.37, 0.19, 0.61, 0.73],\n",
       "       [0.49, 0.46, 0.07, 0.06],\n",
       "       [0.82, 0.42, 0.21, 0.19],\n",
       "       [0.39, 0.23, 0.65, 0.53]])"
      ]
     },
     "execution_count": 8,
     "metadata": {},
     "output_type": "execute_result"
    }
   ],
   "source": [
    "array4 = np.round(np.random.rand (6,4), decimals = 2)\n",
    "array4"
   ]
  },
  {
   "cell_type": "code",
   "execution_count": 9,
   "metadata": {},
   "outputs": [
    {
     "data": {
      "text/plain": [
       "array([0.73, 1.  , 0.19, 0.46, 0.42, 0.23])"
      ]
     },
     "execution_count": 9,
     "metadata": {},
     "output_type": "execute_result"
    }
   ],
   "source": [
    "array4[:,1]"
   ]
  },
  {
   "cell_type": "markdown",
   "metadata": {},
   "source": [
    "5. Crea un array 1D con 30 valores enteros aleatorios entre -50 y 50. Extrae los valores negativos."
   ]
  },
  {
   "cell_type": "code",
   "execution_count": 10,
   "metadata": {},
   "outputs": [
    {
     "data": {
      "text/plain": [
       "array([ 21,  -3,   1,  12,   1,   0, -13, -48, -18,   9,   1,  45,  25,\n",
       "       -45,  50, -29, -24,  43,  -2, -34,  31, -28,  40,  30, -38,  -8,\n",
       "       -34, -24, -50, -19])"
      ]
     },
     "execution_count": 10,
     "metadata": {},
     "output_type": "execute_result"
    }
   ],
   "source": [
    "array5 = np.random.randint (-50, 51, (30))\n",
    "array5"
   ]
  },
  {
   "cell_type": "code",
   "execution_count": 11,
   "metadata": {},
   "outputs": [
    {
     "data": {
      "text/plain": [
       "array([ -3, -13, -48, -18, -45, -29, -24,  -2, -34, -28, -38,  -8, -34,\n",
       "       -24, -50, -19])"
      ]
     },
     "execution_count": 11,
     "metadata": {},
     "output_type": "execute_result"
    }
   ],
   "source": [
    "array_negativos = array5[array5 < 0]\n",
    "array_negativos"
   ]
  },
  {
   "cell_type": "markdown",
   "metadata": {},
   "source": [
    "6. Crea un array 1D con 10 valores entre 0 y 1. Redondea los decimales a 2. Obtén los elementos cuyo valor es mayor que 0.5. ¿En que posición/es están esos elementos?"
   ]
  },
  {
   "cell_type": "code",
   "execution_count": 12,
   "metadata": {},
   "outputs": [
    {
     "data": {
      "text/plain": [
       "array([0.13, 0.95, 0.31, 0.97, 0.63, 0.15, 0.85, 0.56, 0.73, 0.71])"
      ]
     },
     "execution_count": 12,
     "metadata": {},
     "output_type": "execute_result"
    }
   ],
   "source": [
    "array6 = np.round (np.random.rand(10), decimals=2)\n",
    "array6"
   ]
  },
  {
   "cell_type": "code",
   "execution_count": 13,
   "metadata": {},
   "outputs": [
    {
     "data": {
      "text/plain": [
       "array([0.95, 0.97, 0.63, 0.85, 0.56, 0.73, 0.71])"
      ]
     },
     "execution_count": 13,
     "metadata": {},
     "output_type": "execute_result"
    }
   ],
   "source": [
    "array = array6 [array6 >0.5]\n",
    "array"
   ]
  },
  {
   "cell_type": "markdown",
   "metadata": {},
   "source": [
    "7. Crea un array 1D con 40 valores del 1 al 100 (ambos incluidos). Obtén los elementos que son divisibles por 3 y por 4."
   ]
  },
  {
   "cell_type": "code",
   "execution_count": 14,
   "metadata": {},
   "outputs": [
    {
     "data": {
      "text/plain": [
       "array([68, 90, 16,  8, 14,  8, 93, 76, 49, 69, 66,  1,  6, 27, 31, 99, 94,\n",
       "       71, 99, 72, 17, 55, 42, 93, 21, 26, 28, 19, 97, 47,  3, 96, 21, 31,\n",
       "       80,  2, 27, 41, 65, 85])"
      ]
     },
     "execution_count": 14,
     "metadata": {},
     "output_type": "execute_result"
    }
   ],
   "source": [
    "array7 = np.random.randint (1,101,(40))\n",
    "array7"
   ]
  },
  {
   "cell_type": "code",
   "execution_count": 15,
   "metadata": {},
   "outputs": [
    {
     "data": {
      "text/plain": [
       "array([90, 66, 27, 99, 99, 72, 42,  3, 96, 27])"
      ]
     },
     "execution_count": 15,
     "metadata": {},
     "output_type": "execute_result"
    }
   ],
   "source": [
    "array_7 = array7 [(array7 %3 == 0) & (array7 &4 == 0)]\n",
    "array_7"
   ]
  },
  {
   "cell_type": "markdown",
   "metadata": {},
   "source": [
    "8. BONUS: Crea un array 3D de forma (2, 3, 5) y 50 elementos con números enteros entre 0 y 100 (ambos incluidos). Reemplaza los elementos en posiciones múltiplos de 3 por 0."
   ]
  },
  {
   "cell_type": "code",
   "execution_count": 16,
   "metadata": {},
   "outputs": [
    {
     "data": {
      "text/plain": [
       "array([ 8,  8, 37, 85, 11, 45, 47, 86, 22, 23, 19,  4, 89, 44, 18, 17, 92,\n",
       "       17, 30, 41, 39,  5, 92, 56, 48, 66, 34, 21, 63, 90, 40,  1, 32, 32,\n",
       "        0, 45, 82, 18, 74, 79, 65, 20,  9,  3, 37, 79,  4, 82,  4, 39])"
      ]
     },
     "execution_count": 16,
     "metadata": {},
     "output_type": "execute_result"
    }
   ],
   "source": [
    "array8 = np.random.randint (0,101,50)\n",
    "array8"
   ]
  },
  {
   "cell_type": "code",
   "execution_count": 17,
   "metadata": {},
   "outputs": [],
   "source": [
    "array8 [array8 %3 == 0 ] = 0"
   ]
  },
  {
   "cell_type": "code",
   "execution_count": 18,
   "metadata": {},
   "outputs": [
    {
     "ename": "ValueError",
     "evalue": "cannot reshape array of size 50 into shape (2,3,5)",
     "output_type": "error",
     "traceback": [
      "\u001b[0;31m---------------------------------------------------------------------------\u001b[0m",
      "\u001b[0;31mValueError\u001b[0m                                Traceback (most recent call last)",
      "\u001b[0;32m/tmp/ipykernel_227281/3191781770.py\u001b[0m in \u001b[0;36m<module>\u001b[0;34m\u001b[0m\n\u001b[1;32m      1\u001b[0m \u001b[0;31m#no es posible hacerlo, porque en un array de dimensiones 2,3,5 sólo caben 30 elementos. Podríamos hacerlo con un array de 30 elementos\u001b[0m\u001b[0;34m\u001b[0m\u001b[0;34m\u001b[0m\u001b[0m\n\u001b[0;32m----> 2\u001b[0;31m \u001b[0mreshaped_array\u001b[0m \u001b[0;34m=\u001b[0m \u001b[0mnp\u001b[0m\u001b[0;34m.\u001b[0m\u001b[0mreshape\u001b[0m \u001b[0;34m(\u001b[0m\u001b[0marray8\u001b[0m\u001b[0;34m,\u001b[0m \u001b[0;34m(\u001b[0m\u001b[0;36m2\u001b[0m\u001b[0;34m,\u001b[0m\u001b[0;36m3\u001b[0m\u001b[0;34m,\u001b[0m\u001b[0;36m5\u001b[0m\u001b[0;34m)\u001b[0m\u001b[0;34m)\u001b[0m\u001b[0;34m\u001b[0m\u001b[0;34m\u001b[0m\u001b[0m\n\u001b[0m\u001b[1;32m      3\u001b[0m \u001b[0mreshaped_array\u001b[0m\u001b[0;34m\u001b[0m\u001b[0;34m\u001b[0m\u001b[0m\n",
      "\u001b[0;32m<__array_function__ internals>\u001b[0m in \u001b[0;36mreshape\u001b[0;34m(*args, **kwargs)\u001b[0m\n",
      "\u001b[0;32m~/anaconda3/lib/python3.9/site-packages/numpy/core/fromnumeric.py\u001b[0m in \u001b[0;36mreshape\u001b[0;34m(a, newshape, order)\u001b[0m\n\u001b[1;32m    297\u001b[0m            [5, 6]])\n\u001b[1;32m    298\u001b[0m     \"\"\"\n\u001b[0;32m--> 299\u001b[0;31m     \u001b[0;32mreturn\u001b[0m \u001b[0m_wrapfunc\u001b[0m\u001b[0;34m(\u001b[0m\u001b[0ma\u001b[0m\u001b[0;34m,\u001b[0m \u001b[0;34m'reshape'\u001b[0m\u001b[0;34m,\u001b[0m \u001b[0mnewshape\u001b[0m\u001b[0;34m,\u001b[0m \u001b[0morder\u001b[0m\u001b[0;34m=\u001b[0m\u001b[0morder\u001b[0m\u001b[0;34m)\u001b[0m\u001b[0;34m\u001b[0m\u001b[0;34m\u001b[0m\u001b[0m\n\u001b[0m\u001b[1;32m    300\u001b[0m \u001b[0;34m\u001b[0m\u001b[0m\n\u001b[1;32m    301\u001b[0m \u001b[0;34m\u001b[0m\u001b[0m\n",
      "\u001b[0;32m~/anaconda3/lib/python3.9/site-packages/numpy/core/fromnumeric.py\u001b[0m in \u001b[0;36m_wrapfunc\u001b[0;34m(obj, method, *args, **kwds)\u001b[0m\n\u001b[1;32m     56\u001b[0m \u001b[0;34m\u001b[0m\u001b[0m\n\u001b[1;32m     57\u001b[0m     \u001b[0;32mtry\u001b[0m\u001b[0;34m:\u001b[0m\u001b[0;34m\u001b[0m\u001b[0;34m\u001b[0m\u001b[0m\n\u001b[0;32m---> 58\u001b[0;31m         \u001b[0;32mreturn\u001b[0m \u001b[0mbound\u001b[0m\u001b[0;34m(\u001b[0m\u001b[0;34m*\u001b[0m\u001b[0margs\u001b[0m\u001b[0;34m,\u001b[0m \u001b[0;34m**\u001b[0m\u001b[0mkwds\u001b[0m\u001b[0;34m)\u001b[0m\u001b[0;34m\u001b[0m\u001b[0;34m\u001b[0m\u001b[0m\n\u001b[0m\u001b[1;32m     59\u001b[0m     \u001b[0;32mexcept\u001b[0m \u001b[0mTypeError\u001b[0m\u001b[0;34m:\u001b[0m\u001b[0;34m\u001b[0m\u001b[0;34m\u001b[0m\u001b[0m\n\u001b[1;32m     60\u001b[0m         \u001b[0;31m# A TypeError occurs if the object does have such a method in its\u001b[0m\u001b[0;34m\u001b[0m\u001b[0;34m\u001b[0m\u001b[0m\n",
      "\u001b[0;31mValueError\u001b[0m: cannot reshape array of size 50 into shape (2,3,5)"
     ]
    }
   ],
   "source": [
    "#no es posible hacerlo, porque en un array de dimensiones 2,3,5 sólo caben 30 elementos. Podríamos hacerlo con un array de 30 elementos\n",
    "reshaped_array = np.reshape (array8, (2,3,5))\n",
    "reshaped_array"
   ]
  },
  {
   "cell_type": "markdown",
   "metadata": {},
   "source": [
    "## Reshape y Transpose:"
   ]
  },
  {
   "cell_type": "markdown",
   "metadata": {},
   "source": [
    "1. Crea un array 3D de forma (2, 3, 4) con valores aleatorios entre 1 y 100 (ambos inclusive). Utiliza reshape para convertirlo en un array 2D. Deberás pensar en la forma que es correcta para hacer este cambio."
   ]
  },
  {
   "cell_type": "code",
   "execution_count": null,
   "metadata": {},
   "outputs": [
    {
     "data": {
      "text/plain": [
       "array([[[46, 75,  6,  8],\n",
       "        [90, 19, 22, 35],\n",
       "        [47, 55,  6, 75]],\n",
       "\n",
       "       [[67,  7, 98, 14],\n",
       "        [67, 91, 68, 31],\n",
       "        [70, 18, 38, 65]]])"
      ]
     },
     "execution_count": 21,
     "metadata": {},
     "output_type": "execute_result"
    }
   ],
   "source": [
    "array_1 = np.random.randint (1,101, (2,3,4))\n",
    "array_1"
   ]
  },
  {
   "cell_type": "code",
   "execution_count": null,
   "metadata": {},
   "outputs": [
    {
     "data": {
      "text/plain": [
       "array([[46, 75,  6,  8],\n",
       "       [90, 19, 22, 35],\n",
       "       [47, 55,  6, 75],\n",
       "       [67,  7, 98, 14],\n",
       "       [67, 91, 68, 31],\n",
       "       [70, 18, 38, 65]])"
      ]
     },
     "execution_count": 22,
     "metadata": {},
     "output_type": "execute_result"
    }
   ],
   "source": [
    "reshaped_array = np.reshape (array_1, (6,4))\n",
    "reshaped_array"
   ]
  },
  {
   "cell_type": "code",
   "execution_count": null,
   "metadata": {},
   "outputs": [
    {
     "data": {
      "text/plain": [
       "array([[46, 75,  6,  8],\n",
       "       [90, 19, 22, 35],\n",
       "       [47, 55,  6, 75],\n",
       "       [67,  7, 98, 14],\n",
       "       [67, 91, 68, 31],\n",
       "       [70, 18, 38, 65]])"
      ]
     },
     "execution_count": 23,
     "metadata": {},
     "output_type": "execute_result"
    }
   ],
   "source": [
    "#otra forma de hacerlo sería:\n",
    "reshaped_array = np.reshape (array_1, (-1,4))\n",
    "reshaped_array"
   ]
  },
  {
   "cell_type": "markdown",
   "metadata": {},
   "source": [
    "2. Crea un array 3D de forma (3, 4, 5) con valores enteros del 1 al 60 (sin incluir). Utiliza reshape para convertirlo en un array 2D."
   ]
  },
  {
   "cell_type": "code",
   "execution_count": null,
   "metadata": {},
   "outputs": [
    {
     "data": {
      "text/plain": [
       "array([[[53, 26, 36, 44, 14],\n",
       "        [22, 54, 29, 34,  4],\n",
       "        [33, 11, 46, 25,  9],\n",
       "        [48,  5, 29, 11, 23]],\n",
       "\n",
       "       [[49, 25, 34, 34, 51],\n",
       "        [ 8, 59, 47, 58, 23],\n",
       "        [51, 38, 49, 23, 46],\n",
       "        [13, 20, 12, 12, 47]],\n",
       "\n",
       "       [[11, 24, 34, 53,  7],\n",
       "        [31, 29, 49, 28, 46],\n",
       "        [35, 19, 16, 43, 37],\n",
       "        [52, 36, 35, 35, 23]]])"
      ]
     },
     "execution_count": 24,
     "metadata": {},
     "output_type": "execute_result"
    }
   ],
   "source": [
    "array_2 = np.random.randint (1,60, (3,4,5))\n",
    "array_2"
   ]
  },
  {
   "cell_type": "code",
   "execution_count": null,
   "metadata": {},
   "outputs": [
    {
     "data": {
      "text/plain": [
       "array([[53, 26, 36, 44, 14, 22, 54, 29, 34,  4],\n",
       "       [33, 11, 46, 25,  9, 48,  5, 29, 11, 23],\n",
       "       [49, 25, 34, 34, 51,  8, 59, 47, 58, 23],\n",
       "       [51, 38, 49, 23, 46, 13, 20, 12, 12, 47],\n",
       "       [11, 24, 34, 53,  7, 31, 29, 49, 28, 46],\n",
       "       [35, 19, 16, 43, 37, 52, 36, 35, 35, 23]])"
      ]
     },
     "execution_count": 25,
     "metadata": {},
     "output_type": "execute_result"
    }
   ],
   "source": [
    "reshaped_array_2 = np.reshape (array_2, (6,10))\n",
    "reshaped_array_2"
   ]
  },
  {
   "cell_type": "markdown",
   "metadata": {},
   "source": [
    "3. Crea un array 3D de forma (4, 3, 2) con valores aleatorios entre 0 y 1. Utiliza reshape para convertirlo en un array 2D."
   ]
  },
  {
   "cell_type": "code",
   "execution_count": null,
   "metadata": {},
   "outputs": [
    {
     "data": {
      "text/plain": [
       "array([[[0.79463835, 0.11675356],\n",
       "        [0.68153607, 0.30517563],\n",
       "        [0.14934889, 0.6487142 ]],\n",
       "\n",
       "       [[0.48957806, 0.87438639],\n",
       "        [0.37238088, 0.96298892],\n",
       "        [0.32323312, 0.28665343]],\n",
       "\n",
       "       [[0.85790159, 0.15271869],\n",
       "        [0.6064677 , 0.09637331],\n",
       "        [0.60414664, 0.92731767]],\n",
       "\n",
       "       [[0.43520413, 0.34427726],\n",
       "        [0.04768062, 0.37694708],\n",
       "        [0.83183448, 0.72408611]]])"
      ]
     },
     "execution_count": 26,
     "metadata": {},
     "output_type": "execute_result"
    }
   ],
   "source": [
    "array_3 = np.random.rand (4,3,2)\n",
    "array_3"
   ]
  },
  {
   "cell_type": "code",
   "execution_count": null,
   "metadata": {},
   "outputs": [
    {
     "data": {
      "text/plain": [
       "array([[0.79463835, 0.11675356, 0.68153607, 0.30517563, 0.14934889,\n",
       "        0.6487142 , 0.48957806, 0.87438639],\n",
       "       [0.37238088, 0.96298892, 0.32323312, 0.28665343, 0.85790159,\n",
       "        0.15271869, 0.6064677 , 0.09637331],\n",
       "       [0.60414664, 0.92731767, 0.43520413, 0.34427726, 0.04768062,\n",
       "        0.37694708, 0.83183448, 0.72408611]])"
      ]
     },
     "execution_count": 27,
     "metadata": {},
     "output_type": "execute_result"
    }
   ],
   "source": [
    "reshaped_3 = np.reshape (array_3, (3,8))\n",
    "reshaped_3"
   ]
  },
  {
   "cell_type": "markdown",
   "metadata": {},
   "source": [
    "## Ejercicios con transpose:"
   ]
  },
  {
   "cell_type": "markdown",
   "metadata": {},
   "source": [
    "4. Utiliza el array 3D del ejercicio 2 de reshape. Utiliza transpose para permutar los ejes y obtener un nuevo array con forma (5, 4, 3)."
   ]
  },
  {
   "cell_type": "code",
   "execution_count": null,
   "metadata": {},
   "outputs": [
    {
     "data": {
      "text/plain": [
       "array([[[53, 26, 36, 44, 14],\n",
       "        [22, 54, 29, 34,  4],\n",
       "        [33, 11, 46, 25,  9],\n",
       "        [48,  5, 29, 11, 23]],\n",
       "\n",
       "       [[49, 25, 34, 34, 51],\n",
       "        [ 8, 59, 47, 58, 23],\n",
       "        [51, 38, 49, 23, 46],\n",
       "        [13, 20, 12, 12, 47]],\n",
       "\n",
       "       [[11, 24, 34, 53,  7],\n",
       "        [31, 29, 49, 28, 46],\n",
       "        [35, 19, 16, 43, 37],\n",
       "        [52, 36, 35, 35, 23]]])"
      ]
     },
     "execution_count": 28,
     "metadata": {},
     "output_type": "execute_result"
    }
   ],
   "source": [
    "array_2"
   ]
  },
  {
   "cell_type": "code",
   "execution_count": null,
   "metadata": {},
   "outputs": [
    {
     "data": {
      "text/plain": [
       "array([[[53, 49, 11],\n",
       "        [22,  8, 31],\n",
       "        [33, 51, 35],\n",
       "        [48, 13, 52]],\n",
       "\n",
       "       [[26, 25, 24],\n",
       "        [54, 59, 29],\n",
       "        [11, 38, 19],\n",
       "        [ 5, 20, 36]],\n",
       "\n",
       "       [[36, 34, 34],\n",
       "        [29, 47, 49],\n",
       "        [46, 49, 16],\n",
       "        [29, 12, 35]],\n",
       "\n",
       "       [[44, 34, 53],\n",
       "        [34, 58, 28],\n",
       "        [25, 23, 43],\n",
       "        [11, 12, 35]],\n",
       "\n",
       "       [[14, 51,  7],\n",
       "        [ 4, 23, 46],\n",
       "        [ 9, 46, 37],\n",
       "        [23, 47, 23]]])"
      ]
     },
     "execution_count": 29,
     "metadata": {},
     "output_type": "execute_result"
    }
   ],
   "source": [
    "transposed_array = np.transpose (array_2)\n",
    "transposed_array"
   ]
  },
  {
   "cell_type": "markdown",
   "metadata": {},
   "source": [
    "5. Utiliza el array 3D del ejercicio 3 de reshape. Utiliza transpose para cambiar el orden de los ejes y obtener un nuevo array con forma (3, 2, 4)."
   ]
  },
  {
   "cell_type": "code",
   "execution_count": null,
   "metadata": {},
   "outputs": [
    {
     "data": {
      "text/plain": [
       "array([[[0.79463835, 0.11675356],\n",
       "        [0.68153607, 0.30517563],\n",
       "        [0.14934889, 0.6487142 ]],\n",
       "\n",
       "       [[0.48957806, 0.87438639],\n",
       "        [0.37238088, 0.96298892],\n",
       "        [0.32323312, 0.28665343]],\n",
       "\n",
       "       [[0.85790159, 0.15271869],\n",
       "        [0.6064677 , 0.09637331],\n",
       "        [0.60414664, 0.92731767]],\n",
       "\n",
       "       [[0.43520413, 0.34427726],\n",
       "        [0.04768062, 0.37694708],\n",
       "        [0.83183448, 0.72408611]]])"
      ]
     },
     "execution_count": 30,
     "metadata": {},
     "output_type": "execute_result"
    }
   ],
   "source": [
    "array_3"
   ]
  },
  {
   "cell_type": "code",
   "execution_count": null,
   "metadata": {},
   "outputs": [
    {
     "data": {
      "text/plain": [
       "24"
      ]
     },
     "execution_count": 31,
     "metadata": {},
     "output_type": "execute_result"
    }
   ],
   "source": [
    "np.size (array_3)"
   ]
  },
  {
   "cell_type": "code",
   "execution_count": null,
   "metadata": {},
   "outputs": [
    {
     "data": {
      "text/plain": [
       "(4, 3, 2)"
      ]
     },
     "execution_count": 32,
     "metadata": {},
     "output_type": "execute_result"
    }
   ],
   "source": [
    "np.shape (array_3)"
   ]
  },
  {
   "cell_type": "code",
   "execution_count": null,
   "metadata": {},
   "outputs": [
    {
     "data": {
      "text/plain": [
       "array([[[0.79463835, 0.48957806, 0.85790159, 0.43520413],\n",
       "        [0.11675356, 0.87438639, 0.15271869, 0.34427726]],\n",
       "\n",
       "       [[0.68153607, 0.37238088, 0.6064677 , 0.04768062],\n",
       "        [0.30517563, 0.96298892, 0.09637331, 0.37694708]],\n",
       "\n",
       "       [[0.14934889, 0.32323312, 0.60414664, 0.83183448],\n",
       "        [0.6487142 , 0.28665343, 0.92731767, 0.72408611]]])"
      ]
     },
     "execution_count": 33,
     "metadata": {},
     "output_type": "execute_result"
    }
   ],
   "source": [
    "#al transpose se le indican los índices del shape original\n",
    "transposed_array2 = np.transpose (array_3, (1,2,0))\n",
    "transposed_array2"
   ]
  },
  {
   "cell_type": "markdown",
   "metadata": {},
   "source": [
    "# Preguntas teóricas:"
   ]
  },
  {
   "cell_type": "markdown",
   "metadata": {},
   "source": [
    "6. ¿Qué diferencia existe entre el reshape y el transpose?"
   ]
  },
  {
   "cell_type": "markdown",
   "metadata": {},
   "source": [
    "*reshape* se utiliza para cambiar las dimensiones de un array mientras que *transpose* se utiliza para intercambiar las dimensiones de un array, es decir, toma como argumento un *array* y devuelve una nueva *array* con las dimensiones intercambiadas."
   ]
  },
  {
   "cell_type": "markdown",
   "metadata": {},
   "source": [
    "7. ¿Y entre el transpose y el swapaxes?"
   ]
  },
  {
   "cell_type": "markdown",
   "metadata": {},
   "source": [
    "*transpose* permite permutar todas las dimensiones de un array multidimensional, mientras que *swapaxes* solo intercambia dos dimensiones específicas."
   ]
  },
  {
   "cell_type": "markdown",
   "metadata": {},
   "source": [
    "## Funciones Aritméticas y Estadísticas:"
   ]
  },
  {
   "cell_type": "markdown",
   "metadata": {},
   "source": [
    "1. Crea un array de tres 3D con elementos entre el 0 y 1 de forma (2, 3, 5) cuyos valores solo tengan 1 decimal."
   ]
  },
  {
   "cell_type": "code",
   "execution_count": 21,
   "metadata": {},
   "outputs": [
    {
     "data": {
      "text/plain": [
       "array([[[0.42171048, 0.02452492, 0.59040051, 0.74427804, 0.8024387 ],\n",
       "        [0.93349809, 0.44497035, 0.85650804, 0.09408377, 0.50847907],\n",
       "        [0.79279295, 0.98715698, 0.7956057 , 0.07549631, 0.41995004]],\n",
       "\n",
       "       [[0.37416605, 0.66501158, 0.49533009, 0.10884514, 0.3390317 ],\n",
       "        [0.45909288, 0.42134158, 0.46328817, 0.5649528 , 0.78368882],\n",
       "        [0.41235799, 0.96883378, 0.99633507, 0.40138025, 0.41827355]]])"
      ]
     },
     "execution_count": 21,
     "metadata": {},
     "output_type": "execute_result"
    }
   ],
   "source": [
    "array = np.random.random_sample((2,3,5))\n",
    "array"
   ]
  },
  {
   "cell_type": "markdown",
   "metadata": {},
   "source": [
    "2. Crea un array vacío con la misma forma y dimensiones que el array creado anteriormente. Vamos a reemplazar los valores de la matriz vacía que nos acabamos de crear pero basándonos en los valores del primer array bajo las siguientes condiciones:\n",
    "- Si el valor del array es igual que la media, se reemplaza por \"A\".\n",
    "- Si el valor del array es mayor que la media, se reemplaza por \"B\".\n",
    "- Si el valor del array es menor que la media, se reemplaza por \"C\".\n",
    "- Si el valor es igual que el máximo, se reemplaza por \"D\".\n",
    "- Si el valor es igual que el mínimo, se reemplaza por \"E\".\n",
    "\n"
   ]
  },
  {
   "cell_type": "code",
   "execution_count": 24,
   "metadata": {},
   "outputs": [],
   "source": [
    "media = np.mean(array)\n",
    "max = np.max(array)\n",
    "min = np.min(array)"
   ]
  },
  {
   "cell_type": "code",
   "execution_count": 35,
   "metadata": {},
   "outputs": [
    {
     "data": {
      "text/plain": [
       "False"
      ]
     },
     "execution_count": 35,
     "metadata": {},
     "output_type": "execute_result"
    }
   ],
   "source": [
    "array[0][0][0] == media"
   ]
  },
  {
   "cell_type": "code",
   "execution_count": 26,
   "metadata": {},
   "outputs": [
    {
     "data": {
      "text/plain": [
       "(2, 3, 5)"
      ]
     },
     "execution_count": 26,
     "metadata": {},
     "output_type": "execute_result"
    }
   ],
   "source": [
    "array.shape"
   ]
  },
  {
   "cell_type": "code",
   "execution_count": 27,
   "metadata": {},
   "outputs": [
    {
     "data": {
      "text/plain": [
       "array([[['', '', '', '', ''],\n",
       "        ['', '', '', '', ''],\n",
       "        ['', '', '', '', '']],\n",
       "\n",
       "       [['', '', '', '', ''],\n",
       "        ['', '', '', '', ''],\n",
       "        ['', '', '', '', '']]], dtype='<U1')"
      ]
     },
     "execution_count": 27,
     "metadata": {},
     "output_type": "execute_result"
    }
   ],
   "source": [
    "vacio = np.empty_like(array, dtype =str)\n",
    "vacio"
   ]
  },
  {
   "cell_type": "code",
   "execution_count": 36,
   "metadata": {},
   "outputs": [],
   "source": [
    "#cleamos un bucle for para acceder a cada uno de los elementos\n",
    "for matriz in range (2):\n",
    "    for fila in range (3):\n",
    "        for col in range (5):\n",
    "            if array[matriz][fila][col] == media:\n",
    "                vacio [matriz][fila][col] = 'A'\n",
    "            elif array[matriz][fila][col] == max:\n",
    "                vacio [matriz][fila][col] = 'D'\n",
    "            elif array[matriz][fila][col] == min:\n",
    "                vacio [matriz][fila][col] = 'E'\n",
    "            elif array[matriz][fila][col] > media:\n",
    "                vacio [matriz][fila][col] = 'B'\n",
    "            elif array[matriz][fila][col] < media:\n",
    "                vacio [matriz][fila][col] = 'C'\n",
    "            "
   ]
  },
  {
   "cell_type": "code",
   "execution_count": 37,
   "metadata": {},
   "outputs": [],
   "source": [
    "#cleamos un bucle for para acceder a cada uno de los elementos (este bucle podemos utilizarlo para cualquier matriz de cualquier dimension)\n",
    "for matriz in range (array.shape[0]):\n",
    "    for fila in range (array.shape[1]):\n",
    "        for col in range (array.shape[2]):\n",
    "            if array[matriz][fila][col] == media:\n",
    "                vacio [matriz][fila][col] = 'A'\n",
    "            elif array[matriz][fila][col] == max:\n",
    "                vacio [matriz][fila][col] = 'D'\n",
    "            elif array[matriz][fila][col] == min:\n",
    "                vacio [matriz][fila][col] = 'E'\n",
    "            elif array[matriz][fila][col] > media:\n",
    "                vacio [matriz][fila][col] = 'B'\n",
    "            elif array[matriz][fila][col] < media:\n",
    "                vacio [matriz][fila][col] = 'C'"
   ]
  },
  {
   "cell_type": "code",
   "execution_count": 38,
   "metadata": {},
   "outputs": [
    {
     "data": {
      "text/plain": [
       "array([[['C', 'E', 'B', 'B', 'B'],\n",
       "        ['B', 'C', 'B', 'C', 'C'],\n",
       "        ['B', 'B', 'B', 'C', 'C']],\n",
       "\n",
       "       [['C', 'B', 'C', 'C', 'C'],\n",
       "        ['C', 'C', 'C', 'B', 'B'],\n",
       "        ['C', 'B', 'D', 'C', 'C']]], dtype='<U1')"
      ]
     },
     "execution_count": 38,
     "metadata": {},
     "output_type": "execute_result"
    }
   ],
   "source": [
    "vacio"
   ]
  }
 ],
 "metadata": {
  "kernelspec": {
   "display_name": "base",
   "language": "python",
   "name": "python3"
  },
  "language_info": {
   "codemirror_mode": {
    "name": "ipython",
    "version": 3
   },
   "file_extension": ".py",
   "mimetype": "text/x-python",
   "name": "python",
   "nbconvert_exporter": "python",
   "pygments_lexer": "ipython3",
   "version": "3.9.7"
  }
 },
 "nbformat": 4,
 "nbformat_minor": 2
}
