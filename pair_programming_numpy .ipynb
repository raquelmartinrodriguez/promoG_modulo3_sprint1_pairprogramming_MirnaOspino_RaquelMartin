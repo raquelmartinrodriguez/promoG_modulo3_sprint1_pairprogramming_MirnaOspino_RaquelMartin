{
 "cells": [
  {
   "cell_type": "markdown",
   "metadata": {},
   "source": [
    "# Pair programming Numpy"
   ]
  },
  {
   "cell_type": "markdown",
   "metadata": {},
   "source": [
    "## Creación y Indexación:"
   ]
  },
  {
   "cell_type": "code",
   "execution_count": 2,
   "metadata": {},
   "outputs": [],
   "source": [
    "# en primer lugar, importamos la libreria para poder trabajar con NUMPY\n",
    "import numpy as np"
   ]
  },
  {
   "cell_type": "markdown",
   "metadata": {},
   "source": [
    "1. Crea un array 1D con 50 valores aleatorio del 10 al 99. Accede a los elementos en las posiciones múltiplos de 5."
   ]
  },
  {
   "cell_type": "code",
   "execution_count": 3,
   "metadata": {},
   "outputs": [
    {
     "data": {
      "text/plain": [
       "array([69, 32, 77, 97, 65, 53, 30, 12, 68, 58, 81, 77, 47, 72, 68, 99, 79,\n",
       "       66, 81, 95, 17, 42, 65, 70, 88, 79, 46, 76, 59, 47, 42, 80, 69, 76,\n",
       "       61, 80, 77, 61, 88, 41, 88, 14, 53, 70, 54, 60, 17, 18, 65, 94])"
      ]
     },
     "execution_count": 3,
     "metadata": {},
     "output_type": "execute_result"
    }
   ],
   "source": [
    "array1 = np.random.randint (10,100, (50))\n",
    "array1"
   ]
  },
  {
   "cell_type": "code",
   "execution_count": 4,
   "metadata": {},
   "outputs": [
    {
     "data": {
      "text/plain": [
       "array([69, 53, 81, 99, 17, 79, 42, 80, 88, 60])"
      ]
     },
     "execution_count": 4,
     "metadata": {},
     "output_type": "execute_result"
    }
   ],
   "source": [
    "array1[::5]\n"
   ]
  },
  {
   "cell_type": "markdown",
   "metadata": {},
   "source": [
    "2. Crea un array 1D con 30 valores del 1 al 20 (ambos incluidos). Utiliza indexación para obtener los elementos en las posiciones impares."
   ]
  },
  {
   "cell_type": "code",
   "execution_count": 5,
   "metadata": {},
   "outputs": [
    {
     "data": {
      "text/plain": [
       "array([15,  3, 18, 18, 20,  6,  7,  5,  8,  5,  1, 14,  9, 16, 15,  1, 14,\n",
       "       15, 13, 11,  5, 15,  6,  9, 19,  8,  8,  4, 18, 17])"
      ]
     },
     "execution_count": 5,
     "metadata": {},
     "output_type": "execute_result"
    }
   ],
   "source": [
    "array2 = np.random.randint (1,21,(30))\n",
    "array2"
   ]
  },
  {
   "cell_type": "code",
   "execution_count": 6,
   "metadata": {},
   "outputs": [
    {
     "data": {
      "text/plain": [
       "array([ 3, 18,  6,  5,  5, 14, 16,  1, 15, 11, 15,  9,  8,  4, 17])"
      ]
     },
     "execution_count": 6,
     "metadata": {},
     "output_type": "execute_result"
    }
   ],
   "source": [
    "array2[1::2]"
   ]
  },
  {
   "cell_type": "markdown",
   "metadata": {},
   "source": [
    "3. Crea un array 2D de forma (4, 6) con números aleatorios decimales (no deben estar comprendidos solo entre 0 y 1). Accede a la última fila de la matriz. Los decimales deben estar redondeados a 2 decimales."
   ]
  },
  {
   "cell_type": "code",
   "execution_count": 7,
   "metadata": {},
   "outputs": [
    {
     "data": {
      "text/plain": [
       "array([[4.65, 1.46, 7.4 , 8.22, 2.1 , 1.12],\n",
       "       [1.06, 7.28, 5.76, 1.39, 6.03, 7.12],\n",
       "       [2.35, 8.64, 7.11, 7.29, 4.03, 4.2 ],\n",
       "       [3.94, 6.89, 2.14, 8.2 , 2.09, 7.41]])"
      ]
     },
     "execution_count": 7,
     "metadata": {},
     "output_type": "execute_result"
    }
   ],
   "source": [
    "array3 = np.round(np.random.uniform(1, 9, (4, 6)), decimals=2)\n",
    "array3"
   ]
  },
  {
   "cell_type": "code",
   "execution_count": 8,
   "metadata": {},
   "outputs": [
    {
     "data": {
      "text/plain": [
       "array([3.94, 6.89, 2.14, 8.2 , 2.09, 7.41])"
      ]
     },
     "execution_count": 8,
     "metadata": {},
     "output_type": "execute_result"
    }
   ],
   "source": [
    "array3 [-1]"
   ]
  },
  {
   "cell_type": "markdown",
   "metadata": {},
   "source": [
    "4. Crea un array NumPy 2D de forma (6, 4) con valores decimales entre 0 y 1. Accede a la segunda columna de la matriz. Los números deben estar redondeados a 2 decimales."
   ]
  },
  {
   "cell_type": "code",
   "execution_count": 9,
   "metadata": {},
   "outputs": [
    {
     "data": {
      "text/plain": [
       "array([[0.97, 0.21, 0.56, 0.63],\n",
       "       [0.51, 0.87, 0.74, 0.99],\n",
       "       [0.18, 0.3 , 0.88, 0.69],\n",
       "       [0.89, 0.  , 0.78, 0.84],\n",
       "       [0.71, 0.54, 0.78, 0.62],\n",
       "       [0.97, 0.49, 0.54, 0.82]])"
      ]
     },
     "execution_count": 9,
     "metadata": {},
     "output_type": "execute_result"
    }
   ],
   "source": [
    "array4 = np.round(np.random.rand (6,4), decimals = 2)\n",
    "array4"
   ]
  },
  {
   "cell_type": "code",
   "execution_count": 10,
   "metadata": {},
   "outputs": [
    {
     "data": {
      "text/plain": [
       "array([0.21, 0.87, 0.3 , 0.  , 0.54, 0.49])"
      ]
     },
     "execution_count": 10,
     "metadata": {},
     "output_type": "execute_result"
    }
   ],
   "source": [
    "array4[:,1]"
   ]
  },
  {
   "cell_type": "markdown",
   "metadata": {},
   "source": [
    "5. Crea un array 1D con 30 valores enteros aleatorios entre -50 y 50. Extrae los valores negativos."
   ]
  },
  {
   "cell_type": "code",
   "execution_count": 11,
   "metadata": {},
   "outputs": [
    {
     "data": {
      "text/plain": [
       "array([ 26, -48,   3, -27,  -7, -26, -18,  27, -42, -31, -12, -11,   6,\n",
       "       -18, -26,  19, -12, -19,  40,  49,  42,  16,  24,  40,  11,  18,\n",
       "        28,  42,  35,  -8])"
      ]
     },
     "execution_count": 11,
     "metadata": {},
     "output_type": "execute_result"
    }
   ],
   "source": [
    "array5 = np.random.randint (-50, 51, (30))\n",
    "array5"
   ]
  },
  {
   "cell_type": "code",
   "execution_count": 12,
   "metadata": {},
   "outputs": [
    {
     "data": {
      "text/plain": [
       "array([-48, -27,  -7, -26, -18, -42, -31, -12, -11, -18, -26, -12, -19,\n",
       "        -8])"
      ]
     },
     "execution_count": 12,
     "metadata": {},
     "output_type": "execute_result"
    }
   ],
   "source": [
    "array_negativos = array5[array5 < 0]\n",
    "array_negativos"
   ]
  },
  {
   "cell_type": "markdown",
   "metadata": {},
   "source": [
    "6. Crea un array 1D con 10 valores entre 0 y 1. Redondea los decimales a 2. Obtén los elementos cuyo valor es mayor que 0.5. ¿En que posición/es están esos elementos?"
   ]
  },
  {
   "cell_type": "code",
   "execution_count": 13,
   "metadata": {},
   "outputs": [
    {
     "data": {
      "text/plain": [
       "array([0.07, 0.82, 0.19, 0.07, 0.88, 0.58, 0.14, 0.59, 0.18, 0.29])"
      ]
     },
     "execution_count": 13,
     "metadata": {},
     "output_type": "execute_result"
    }
   ],
   "source": [
    "array6 = np.round (np.random.rand(10), decimals=2)\n",
    "array6"
   ]
  },
  {
   "cell_type": "code",
   "execution_count": 14,
   "metadata": {},
   "outputs": [
    {
     "data": {
      "text/plain": [
       "array([0.82, 0.88, 0.58, 0.59])"
      ]
     },
     "execution_count": 14,
     "metadata": {},
     "output_type": "execute_result"
    }
   ],
   "source": [
    "array = array6 [array6 >0.5]\n",
    "array"
   ]
  },
  {
   "cell_type": "markdown",
   "metadata": {},
   "source": [
    "7. Crea un array 1D con 40 valores del 1 al 100 (ambos incluidos). Obtén los elementos que son divisibles por 3 y por 4."
   ]
  },
  {
   "cell_type": "code",
   "execution_count": 15,
   "metadata": {},
   "outputs": [
    {
     "data": {
      "text/plain": [
       "array([ 47,  19,  25,  92,  56,  61,  83,   4,  84,  76,  57,  84,  99,\n",
       "        10,  15,  20,  67,  83,  76,  87,  75, 100,  15,  54,  26,   9,\n",
       "        94,  73,  99, 100,  51,  19,   8,  94,  41,  79,  53,  67,  76,\n",
       "        79])"
      ]
     },
     "execution_count": 15,
     "metadata": {},
     "output_type": "execute_result"
    }
   ],
   "source": [
    "array7 = np.random.randint (1,101,(40))\n",
    "array7"
   ]
  },
  {
   "cell_type": "code",
   "execution_count": 16,
   "metadata": {},
   "outputs": [
    {
     "data": {
      "text/plain": [
       "array([57, 99, 75,  9, 99, 51])"
      ]
     },
     "execution_count": 16,
     "metadata": {},
     "output_type": "execute_result"
    }
   ],
   "source": [
    "array_7 = array7 [(array7 %3 == 0) & (array7 &4 == 0)]\n",
    "array_7"
   ]
  },
  {
   "cell_type": "markdown",
   "metadata": {},
   "source": [
    "8. BONUS: Crea un array 3D de forma (2, 3, 5) y 50 elementos con números enteros entre 0 y 100 (ambos incluidos). Reemplaza los elementos en posiciones múltiplos de 3 por 0."
   ]
  },
  {
   "cell_type": "code",
   "execution_count": 17,
   "metadata": {},
   "outputs": [
    {
     "data": {
      "text/plain": [
       "array([ 58,  95,  69,  37,  58,  83,   6,  43,  24, 100,  95,  31,  55,\n",
       "        43,  83,  20,   6,  60,  95,  62,  83,   0,  39,  72,  66,  45,\n",
       "        54,  23,  37,  19,  12,   9,  84,  55,  95,  59,  57,  41,  96,\n",
       "        60,  64,  89,  12,  41,  48,  22,  49,  73,  96,   6])"
      ]
     },
     "execution_count": 17,
     "metadata": {},
     "output_type": "execute_result"
    }
   ],
   "source": [
    "array8 = np.random.randint (0,101,50)\n",
    "array8"
   ]
  },
  {
   "cell_type": "code",
   "execution_count": 18,
   "metadata": {},
   "outputs": [],
   "source": [
    "array8 [array8 %3 == 0 ] = 0"
   ]
  },
  {
   "cell_type": "code",
   "execution_count": null,
   "metadata": {},
   "outputs": [],
   "source": [
    "#no es posible hacerlo, porque en un array de dimensiones 2,3,5 sólo caben 30 elementos. Podríamos hacerlo con un array de 30 elementos\n",
    "reshaped_array = np.reshape (array8, (2,3,5))\n",
    "reshaped_array"
   ]
  },
  {
   "cell_type": "markdown",
   "metadata": {},
   "source": [
    "## Reshape y Transpose:"
   ]
  },
  {
   "cell_type": "markdown",
   "metadata": {},
   "source": [
    "1. Crea un array 3D de forma (2, 3, 4) con valores aleatorios entre 1 y 100 (ambos inclusive). Utiliza reshape para convertirlo en un array 2D. Deberás pensar en la forma que es correcta para hacer este cambio."
   ]
  },
  {
   "cell_type": "code",
   "execution_count": 21,
   "metadata": {},
   "outputs": [
    {
     "data": {
      "text/plain": [
       "array([[[46, 75,  6,  8],\n",
       "        [90, 19, 22, 35],\n",
       "        [47, 55,  6, 75]],\n",
       "\n",
       "       [[67,  7, 98, 14],\n",
       "        [67, 91, 68, 31],\n",
       "        [70, 18, 38, 65]]])"
      ]
     },
     "execution_count": 21,
     "metadata": {},
     "output_type": "execute_result"
    }
   ],
   "source": [
    "array_1 = np.random.randint (1,101, (2,3,4))\n",
    "array_1"
   ]
  },
  {
   "cell_type": "code",
   "execution_count": 22,
   "metadata": {},
   "outputs": [
    {
     "data": {
      "text/plain": [
       "array([[46, 75,  6,  8],\n",
       "       [90, 19, 22, 35],\n",
       "       [47, 55,  6, 75],\n",
       "       [67,  7, 98, 14],\n",
       "       [67, 91, 68, 31],\n",
       "       [70, 18, 38, 65]])"
      ]
     },
     "execution_count": 22,
     "metadata": {},
     "output_type": "execute_result"
    }
   ],
   "source": [
    "reshaped_array = np.reshape (array_1, (6,4))\n",
    "reshaped_array"
   ]
  },
  {
   "cell_type": "code",
   "execution_count": 23,
   "metadata": {},
   "outputs": [
    {
     "data": {
      "text/plain": [
       "array([[46, 75,  6,  8],\n",
       "       [90, 19, 22, 35],\n",
       "       [47, 55,  6, 75],\n",
       "       [67,  7, 98, 14],\n",
       "       [67, 91, 68, 31],\n",
       "       [70, 18, 38, 65]])"
      ]
     },
     "execution_count": 23,
     "metadata": {},
     "output_type": "execute_result"
    }
   ],
   "source": [
    "#otra forma de hacerlo sería:\n",
    "reshaped_array = np.reshape (array_1, (-1,4))\n",
    "reshaped_array"
   ]
  },
  {
   "cell_type": "markdown",
   "metadata": {},
   "source": [
    "2. Crea un array 3D de forma (3, 4, 5) con valores enteros del 1 al 60 (sin incluir). Utiliza reshape para convertirlo en un array 2D."
   ]
  },
  {
   "cell_type": "code",
   "execution_count": 24,
   "metadata": {},
   "outputs": [
    {
     "data": {
      "text/plain": [
       "array([[[53, 26, 36, 44, 14],\n",
       "        [22, 54, 29, 34,  4],\n",
       "        [33, 11, 46, 25,  9],\n",
       "        [48,  5, 29, 11, 23]],\n",
       "\n",
       "       [[49, 25, 34, 34, 51],\n",
       "        [ 8, 59, 47, 58, 23],\n",
       "        [51, 38, 49, 23, 46],\n",
       "        [13, 20, 12, 12, 47]],\n",
       "\n",
       "       [[11, 24, 34, 53,  7],\n",
       "        [31, 29, 49, 28, 46],\n",
       "        [35, 19, 16, 43, 37],\n",
       "        [52, 36, 35, 35, 23]]])"
      ]
     },
     "execution_count": 24,
     "metadata": {},
     "output_type": "execute_result"
    }
   ],
   "source": [
    "array_2 = np.random.randint (1,60, (3,4,5))\n",
    "array_2"
   ]
  },
  {
   "cell_type": "code",
   "execution_count": 25,
   "metadata": {},
   "outputs": [
    {
     "data": {
      "text/plain": [
       "array([[53, 26, 36, 44, 14, 22, 54, 29, 34,  4],\n",
       "       [33, 11, 46, 25,  9, 48,  5, 29, 11, 23],\n",
       "       [49, 25, 34, 34, 51,  8, 59, 47, 58, 23],\n",
       "       [51, 38, 49, 23, 46, 13, 20, 12, 12, 47],\n",
       "       [11, 24, 34, 53,  7, 31, 29, 49, 28, 46],\n",
       "       [35, 19, 16, 43, 37, 52, 36, 35, 35, 23]])"
      ]
     },
     "execution_count": 25,
     "metadata": {},
     "output_type": "execute_result"
    }
   ],
   "source": [
    "reshaped_array_2 = np.reshape (array_2, (6,10))\n",
    "reshaped_array_2"
   ]
  },
  {
   "cell_type": "markdown",
   "metadata": {},
   "source": [
    "3. Crea un array 3D de forma (4, 3, 2) con valores aleatorios entre 0 y 1. Utiliza reshape para convertirlo en un array 2D."
   ]
  },
  {
   "cell_type": "code",
   "execution_count": 26,
   "metadata": {},
   "outputs": [
    {
     "data": {
      "text/plain": [
       "array([[[0.79463835, 0.11675356],\n",
       "        [0.68153607, 0.30517563],\n",
       "        [0.14934889, 0.6487142 ]],\n",
       "\n",
       "       [[0.48957806, 0.87438639],\n",
       "        [0.37238088, 0.96298892],\n",
       "        [0.32323312, 0.28665343]],\n",
       "\n",
       "       [[0.85790159, 0.15271869],\n",
       "        [0.6064677 , 0.09637331],\n",
       "        [0.60414664, 0.92731767]],\n",
       "\n",
       "       [[0.43520413, 0.34427726],\n",
       "        [0.04768062, 0.37694708],\n",
       "        [0.83183448, 0.72408611]]])"
      ]
     },
     "execution_count": 26,
     "metadata": {},
     "output_type": "execute_result"
    }
   ],
   "source": [
    "array_3 = np.random.rand (4,3,2)\n",
    "array_3"
   ]
  },
  {
   "cell_type": "code",
   "execution_count": 27,
   "metadata": {},
   "outputs": [
    {
     "data": {
      "text/plain": [
       "array([[0.79463835, 0.11675356, 0.68153607, 0.30517563, 0.14934889,\n",
       "        0.6487142 , 0.48957806, 0.87438639],\n",
       "       [0.37238088, 0.96298892, 0.32323312, 0.28665343, 0.85790159,\n",
       "        0.15271869, 0.6064677 , 0.09637331],\n",
       "       [0.60414664, 0.92731767, 0.43520413, 0.34427726, 0.04768062,\n",
       "        0.37694708, 0.83183448, 0.72408611]])"
      ]
     },
     "execution_count": 27,
     "metadata": {},
     "output_type": "execute_result"
    }
   ],
   "source": [
    "reshaped_3 = np.reshape (array_3, (3,8))\n",
    "reshaped_3"
   ]
  },
  {
   "cell_type": "markdown",
   "metadata": {},
   "source": [
    "## Ejercicios con transpose:"
   ]
  },
  {
   "cell_type": "markdown",
   "metadata": {},
   "source": [
    "4. Utiliza el array 3D del ejercicio 2 de reshape. Utiliza transpose para permutar los ejes y obtener un nuevo array con forma (5, 4, 3)."
   ]
  },
  {
   "cell_type": "code",
   "execution_count": 28,
   "metadata": {},
   "outputs": [
    {
     "data": {
      "text/plain": [
       "array([[[53, 26, 36, 44, 14],\n",
       "        [22, 54, 29, 34,  4],\n",
       "        [33, 11, 46, 25,  9],\n",
       "        [48,  5, 29, 11, 23]],\n",
       "\n",
       "       [[49, 25, 34, 34, 51],\n",
       "        [ 8, 59, 47, 58, 23],\n",
       "        [51, 38, 49, 23, 46],\n",
       "        [13, 20, 12, 12, 47]],\n",
       "\n",
       "       [[11, 24, 34, 53,  7],\n",
       "        [31, 29, 49, 28, 46],\n",
       "        [35, 19, 16, 43, 37],\n",
       "        [52, 36, 35, 35, 23]]])"
      ]
     },
     "execution_count": 28,
     "metadata": {},
     "output_type": "execute_result"
    }
   ],
   "source": [
    "array_2"
   ]
  },
  {
   "cell_type": "code",
   "execution_count": 29,
   "metadata": {},
   "outputs": [
    {
     "data": {
      "text/plain": [
       "array([[[53, 49, 11],\n",
       "        [22,  8, 31],\n",
       "        [33, 51, 35],\n",
       "        [48, 13, 52]],\n",
       "\n",
       "       [[26, 25, 24],\n",
       "        [54, 59, 29],\n",
       "        [11, 38, 19],\n",
       "        [ 5, 20, 36]],\n",
       "\n",
       "       [[36, 34, 34],\n",
       "        [29, 47, 49],\n",
       "        [46, 49, 16],\n",
       "        [29, 12, 35]],\n",
       "\n",
       "       [[44, 34, 53],\n",
       "        [34, 58, 28],\n",
       "        [25, 23, 43],\n",
       "        [11, 12, 35]],\n",
       "\n",
       "       [[14, 51,  7],\n",
       "        [ 4, 23, 46],\n",
       "        [ 9, 46, 37],\n",
       "        [23, 47, 23]]])"
      ]
     },
     "execution_count": 29,
     "metadata": {},
     "output_type": "execute_result"
    }
   ],
   "source": [
    "transposed_array = np.transpose (array_2)\n",
    "transposed_array"
   ]
  },
  {
   "cell_type": "markdown",
   "metadata": {},
   "source": [
    "5. Utiliza el array 3D del ejercicio 3 de reshape. Utiliza transpose para cambiar el orden de los ejes y obtener un nuevo array con forma (3, 2, 4)."
   ]
  },
  {
   "cell_type": "code",
   "execution_count": 30,
   "metadata": {},
   "outputs": [
    {
     "data": {
      "text/plain": [
       "array([[[0.79463835, 0.11675356],\n",
       "        [0.68153607, 0.30517563],\n",
       "        [0.14934889, 0.6487142 ]],\n",
       "\n",
       "       [[0.48957806, 0.87438639],\n",
       "        [0.37238088, 0.96298892],\n",
       "        [0.32323312, 0.28665343]],\n",
       "\n",
       "       [[0.85790159, 0.15271869],\n",
       "        [0.6064677 , 0.09637331],\n",
       "        [0.60414664, 0.92731767]],\n",
       "\n",
       "       [[0.43520413, 0.34427726],\n",
       "        [0.04768062, 0.37694708],\n",
       "        [0.83183448, 0.72408611]]])"
      ]
     },
     "execution_count": 30,
     "metadata": {},
     "output_type": "execute_result"
    }
   ],
   "source": [
    "array_3"
   ]
  },
  {
   "cell_type": "code",
   "execution_count": 31,
   "metadata": {},
   "outputs": [
    {
     "data": {
      "text/plain": [
       "24"
      ]
     },
     "execution_count": 31,
     "metadata": {},
     "output_type": "execute_result"
    }
   ],
   "source": [
    "np.size (array_3)"
   ]
  },
  {
   "cell_type": "code",
   "execution_count": 32,
   "metadata": {},
   "outputs": [
    {
     "data": {
      "text/plain": [
       "(4, 3, 2)"
      ]
     },
     "execution_count": 32,
     "metadata": {},
     "output_type": "execute_result"
    }
   ],
   "source": [
    "np.shape (array_3)"
   ]
  },
  {
   "cell_type": "code",
   "execution_count": 33,
   "metadata": {},
   "outputs": [
    {
     "data": {
      "text/plain": [
       "array([[[0.79463835, 0.48957806, 0.85790159, 0.43520413],\n",
       "        [0.11675356, 0.87438639, 0.15271869, 0.34427726]],\n",
       "\n",
       "       [[0.68153607, 0.37238088, 0.6064677 , 0.04768062],\n",
       "        [0.30517563, 0.96298892, 0.09637331, 0.37694708]],\n",
       "\n",
       "       [[0.14934889, 0.32323312, 0.60414664, 0.83183448],\n",
       "        [0.6487142 , 0.28665343, 0.92731767, 0.72408611]]])"
      ]
     },
     "execution_count": 33,
     "metadata": {},
     "output_type": "execute_result"
    }
   ],
   "source": [
    "#al transpose se le indican los índices del shape original\n",
    "transposed_array2 = np.transpose (array_3, (1,2,0))\n",
    "transposed_array2"
   ]
  },
  {
   "cell_type": "markdown",
   "metadata": {},
   "source": [
    "# Preguntas teóricas:"
   ]
  },
  {
   "cell_type": "markdown",
   "metadata": {},
   "source": [
    "6. ¿Qué diferencia existe entre el reshape y el transpose?"
   ]
  },
  {
   "cell_type": "markdown",
   "metadata": {},
   "source": [
    "*reshape* se utiliza para cambiar las dimensiones de un array mientras que *transpose* se utiliza para intercambiar las dimensiones de un array, es decir, toma como argumento un *array* y devuelve una nueva *array* con las dimensiones intercambiadas."
   ]
  },
  {
   "cell_type": "markdown",
   "metadata": {},
   "source": [
    "7. ¿Y entre el transpose y el swapaxes?"
   ]
  },
  {
   "cell_type": "markdown",
   "metadata": {},
   "source": [
    "*transpose* permite permutar todas las dimensiones de un array multidimensional, mientras que *swapaxes* solo intercambia dos dimensiones específicas."
   ]
  },
  {
   "cell_type": "markdown",
   "metadata": {},
   "source": [
    "## Funciones Aritméticas y Estadísticas:"
   ]
  },
  {
   "cell_type": "markdown",
   "metadata": {},
   "source": [
    "1. Crea un array de tres 3D con elementos entre el 0 y 1 de forma (2, 3, 5) cuyos valores solo tengan 1 decimal."
   ]
  },
  {
   "cell_type": "markdown",
   "metadata": {},
   "source": [
    "2. Crea un array vacío con la misma forma y dimensiones que el array creado anteriormente. Vamos a reemplazar los valores de la matriz vacía que nos acabamos de crear pero basándonos en los valores del primer array bajo las siguientes condiciones:\n",
    "- Si el valor del array es igual que la media, se reemplaza por \"A\".\n",
    "- Si el valor del array es mayor que la media, se reemplaza por \"B\".\n",
    "- Si el valor del array es menor que la media, se reemplaza por \"C\".\n",
    "- Si el valor es igual que el máximo, se reemplaza por \"D\".\n",
    "- Si el valor es igual que el mínimo, se reemplaza por \"E\".\n",
    "\n"
   ]
  },
  {
   "cell_type": "code",
   "execution_count": null,
   "metadata": {},
   "outputs": [],
   "source": [
    "# a modo de ejemplo. Si tenemos el siguiente array\n",
    "[[[0.4, 0.7, 0.2, 0.9, 0.2],\n",
    "    [0.1, 0.9, 0.6, 0.1, 0.2],\n",
    "    [1. , 0.2, 0.1, 0.8, 0.3]],\n",
    "\n",
    "[[0. , 0.3, 0.4, 0.5, 0.1],\n",
    "    [0.5, 0.7, 0.9, 0. , 0.8],\n",
    "    [0.5, 0.3, 0.5, 0.8, 0.1]]])\n",
    "\n",
    "# sabiendo que la media es 0.4 y el máximo es 1.0 y el mínimo es 0.0\n",
    "\n",
    "# nuestro array vacío debería quedar como este: \n",
    "([[[\"A\", \"B\", \"C\", \"B\", \"C\"],\n",
    "    [\"C\", \"B\", \"B\", \"C\", \"C\"],\n",
    "    [\"D\" , \"C\", \"C\", \"B\", \"C\"]],\n",
    "\n",
    "[[\"E\" , \"C\", \"A\", \"B\", \"C\"],\n",
    "    [\"B\", \"B\",\"B\", \"E\" , \"B\"],\n",
    "    [\"B\", \"C\", \"B\", \"B\", \"C\"]]])"
   ]
  }
 ],
 "metadata": {
  "kernelspec": {
   "display_name": "base",
   "language": "python",
   "name": "python3"
  },
  "language_info": {
   "codemirror_mode": {
    "name": "ipython",
    "version": 3
   },
   "file_extension": ".py",
   "mimetype": "text/x-python",
   "name": "python",
   "nbconvert_exporter": "python",
   "pygments_lexer": "ipython3",
   "version": "3.9.7"
  }
 },
 "nbformat": 4,
 "nbformat_minor": 2
}
