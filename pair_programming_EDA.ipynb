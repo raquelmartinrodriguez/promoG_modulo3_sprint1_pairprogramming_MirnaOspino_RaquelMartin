{
 "cells": [
  {
   "cell_type": "markdown",
   "metadata": {},
   "source": [
    "## Ejercicios de exploración del conjunto de datos"
   ]
  },
  {
   "cell_type": "markdown",
   "metadata": {},
   "source": [
    "1. Muestra las primeras 5 filas del conjunto de datos."
   ]
  },
  {
   "cell_type": "markdown",
   "metadata": {},
   "source": [
    "2. Muestra las últimas 5 filas del conjunto de datos."
   ]
  },
  {
   "cell_type": "markdown",
   "metadata": {},
   "source": [
    "3. Muestra una muestra aleatoria de 5 filas del conjunto de datos."
   ]
  },
  {
   "cell_type": "markdown",
   "metadata": {},
   "source": [
    "4. Muestra el número total de filas y columnas en el conjunto de datos."
   ]
  },
  {
   "cell_type": "markdown",
   "metadata": {},
   "source": [
    "5. Muestra el nombre de todas las columnas en el conjunto de datos."
   ]
  },
  {
   "cell_type": "markdown",
   "metadata": {},
   "source": [
    "6. Muestra los valores únicos en la columna \"Abbreviation\"."
   ]
  },
  {
   "cell_type": "markdown",
   "metadata": {},
   "source": [
    "7. Cuenta cuántas veces aparece cada valor único en la columna \"Abbreviation\"."
   ]
  },
  {
   "cell_type": "markdown",
   "metadata": {},
   "source": [
    "8. Verifica si hay valores nulos en el conjunto de datos."
   ]
  },
  {
   "cell_type": "markdown",
   "metadata": {},
   "source": [
    "9. Verifica si hay valores no nulos en el conjunto de datos."
   ]
  },
  {
   "cell_type": "markdown",
   "metadata": {},
   "source": [
    "10. Muestra información general sobre el conjunto de datos."
   ]
  },
  {
   "cell_type": "markdown",
   "metadata": {},
   "source": [
    "11. Elimina una columna específica (por ejemplo, \"Armed Forces size\")."
   ]
  },
  {
   "cell_type": "markdown",
   "metadata": {},
   "source": [
    "12. Selecciona las columnas numéricas del conjunto de datos y muestra sus estadísticas descriptivas básicas (para esto tendréis que usar el método '.describe(), su documentación la tenéis aquí)."
   ]
  },
  {
   "cell_type": "markdown",
   "metadata": {},
   "source": [
    "## Ejercicios con loc e iloc"
   ]
  },
  {
   "cell_type": "markdown",
   "metadata": {},
   "source": [
    "1. Selecciona todas las columnas de las filas 2 a 4 (inclusive) utilizando "
   ]
  },
  {
   "cell_type": "markdown",
   "metadata": {},
   "source": [
    "2. Utilizando loc, filtra el conjunto de datos para mostrar solo las filas donde la densidad (columna \"Birth Rate\") es mayor a 30."
   ]
  },
  {
   "cell_type": "markdown",
   "metadata": {},
   "source": [
    "3. Utilizando loc selecciona las columnas \"Country\" y \"Capital/Major City\" de las filas donde el porcentaje de tierra agrícola (columna \"Fertility Rate\") es superior al 3."
   ]
  },
  {
   "cell_type": "markdown",
   "metadata": {},
   "source": [
    "4. Encuentra el valor de \"Gasoline Price\" para el país cuya abreviatura es \"AL\" utilizando "
   ]
  },
  {
   "cell_type": "markdown",
   "metadata": {},
   "source": [
    "5. Selecciona todas las columnas para el país cuya capital es \"Tirana\" utilizando "
   ]
  },
  {
   "cell_type": "markdown",
   "metadata": {},
   "source": [
    "6. Filtra el conjunto de datos para mostrar solo las filas donde el índice de CPI (columna \"CPI\") sea igual a 128.85."
   ]
  },
  {
   "cell_type": "markdown",
   "metadata": {},
   "source": [
    "7. Encuentra la densidad (columna \"Density\\n(P/Km2)\") para el país cuya abreviatura es \"AD\" utilizando loc."
   ]
  },
  {
   "cell_type": "markdown",
   "metadata": {},
   "source": [
    "8. Selecciona las columnas \"Country\" y \"Co2-Emissions\"."
   ]
  },
  {
   "cell_type": "markdown",
   "metadata": {},
   "source": [
    "9. Filtra el conjunto de datos para mostrar solo las filas donde el índice de CPI cambió un 2% (columna \"CPI Change (%)\")."
   ]
  },
  {
   "cell_type": "markdown",
   "metadata": {},
   "source": [
    "10. Encuentra la tasa de natalidad (columna \"Birth Rate\") para el país con la abreviatura \"AF\" utilizando  loc."
   ]
  },
  {
   "cell_type": "markdown",
   "metadata": {},
   "source": [
    "11. Selecciona todas las columnas de las filas 3 a 5 (excluyendo la fila 5) utilizando iloc."
   ]
  },
  {
   "cell_type": "markdown",
   "metadata": {},
   "source": [
    "12. Selecciona las columnas 1, 3 y 6 para todas las filas utilizando iloc."
   ]
  },
  {
   "cell_type": "markdown",
   "metadata": {},
   "source": [
    "13. Selecciona todas las filas de las columnas 0 a 4 (excluyendo la columna 4) utilizando iloc"
   ]
  },
  {
   "cell_type": "markdown",
   "metadata": {},
   "source": [
    "14. Encuentra el valor en la fila 2 y columna 7 utilizando iloc."
   ]
  },
  {
   "cell_type": "markdown",
   "metadata": {},
   "source": [
    "15. Selecciona todas las filas para las columnas 0, 2, y 5 utilizando iloc."
   ]
  },
  {
   "cell_type": "markdown",
   "metadata": {},
   "source": [
    "16. Selecciona las filas 0, 2 y 4 para todas las columnas utilizando iloc."
   ]
  },
  {
   "cell_type": "markdown",
   "metadata": {},
   "source": [
    "17. Encuentra el valor en la última fila y la última columna utilizando iloc."
   ]
  },
  {
   "cell_type": "markdown",
   "metadata": {},
   "source": [
    "18. Selecciona las filas 1 a 3 (inclusive) para todas las columnas utilizando iloc."
   ]
  },
  {
   "cell_type": "markdown",
   "metadata": {},
   "source": [
    "19. Selecciona todas las filas para las columnas 1, 4 y 6 utilizando iloc."
   ]
  },
  {
   "cell_type": "markdown",
   "metadata": {},
   "source": [
    "20. Encuentra el valor en la fila 4 y columna 2 utilizando iloc."
   ]
  }
 ],
 "metadata": {
  "language_info": {
   "name": "python"
  }
 },
 "nbformat": 4,
 "nbformat_minor": 2
}
