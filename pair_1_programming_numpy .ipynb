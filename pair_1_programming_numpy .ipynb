{
 "cells": [
  {
   "cell_type": "markdown",
   "metadata": {},
   "source": [
    "# Pair programming Numpy"
   ]
  },
  {
   "cell_type": "markdown",
   "metadata": {},
   "source": [
    "## Creación y Indexación:"
   ]
  },
  {
   "cell_type": "code",
   "execution_count": 2,
   "metadata": {},
   "outputs": [],
   "source": [
    "# en primer lugar, importamos la libreria para poder trabajar con NUMPY\n",
    "import numpy as np"
   ]
  },
  {
   "cell_type": "markdown",
   "metadata": {},
   "source": [
    "1. Crea un array 1D con 50 valores aleatorio del 10 al 99. Accede a los elementos en las posiciones múltiplos de 5."
   ]
  },
  {
   "cell_type": "code",
   "execution_count": 3,
   "metadata": {},
   "outputs": [
    {
     "data": {
      "text/plain": [
       "array([62, 52, 33, 36, 71, 99, 43, 87, 19, 78, 29, 39, 22, 27, 34, 73, 89,\n",
       "       31, 32, 13, 52, 37, 67, 22, 46, 28, 67, 85, 46, 85, 80, 30, 79, 73,\n",
       "       14, 23, 77, 70, 20, 72, 90, 49, 36, 56, 31, 91, 48, 52, 93, 10])"
      ]
     },
     "execution_count": 3,
     "metadata": {},
     "output_type": "execute_result"
    }
   ],
   "source": [
    "array1 = np.random.randint (10,100, (50))\n",
    "array1"
   ]
  },
  {
   "cell_type": "code",
   "execution_count": 4,
   "metadata": {},
   "outputs": [
    {
     "data": {
      "text/plain": [
       "array([62, 99, 29, 73, 52, 28, 80, 23, 90, 91])"
      ]
     },
     "execution_count": 4,
     "metadata": {},
     "output_type": "execute_result"
    }
   ],
   "source": [
    "array1[::5]\n"
   ]
  },
  {
   "cell_type": "markdown",
   "metadata": {},
   "source": [
    "2. Crea un array 1D con 30 valores del 1 al 20 (ambos incluidos). Utiliza indexación para obtener los elementos en las posiciones impares."
   ]
  },
  {
   "cell_type": "code",
   "execution_count": 5,
   "metadata": {},
   "outputs": [
    {
     "data": {
      "text/plain": [
       "array([13, 11,  4, 18, 12, 15,  5,  2,  5, 16, 11, 16, 10,  8,  5,  2, 15,\n",
       "        4, 18,  7,  4,  8,  5,  5,  7,  7, 16, 15,  4,  7])"
      ]
     },
     "execution_count": 5,
     "metadata": {},
     "output_type": "execute_result"
    }
   ],
   "source": [
    "array2 = np.random.randint (1,21,(30))\n",
    "array2"
   ]
  },
  {
   "cell_type": "code",
   "execution_count": 6,
   "metadata": {},
   "outputs": [
    {
     "data": {
      "text/plain": [
       "array([11, 18, 15,  2, 16, 16,  8,  2,  4,  7,  8,  5,  7, 15,  7])"
      ]
     },
     "execution_count": 6,
     "metadata": {},
     "output_type": "execute_result"
    }
   ],
   "source": [
    "array2[1::2]"
   ]
  },
  {
   "cell_type": "markdown",
   "metadata": {},
   "source": [
    "3. Crea un array 2D de forma (4, 6) con números aleatorios decimales (no deben estar comprendidos solo entre 0 y 1). Accede a la última fila de la matriz. Los decimales deben estar redondeados a 2 decimales."
   ]
  },
  {
   "cell_type": "code",
   "execution_count": 7,
   "metadata": {},
   "outputs": [
    {
     "data": {
      "text/plain": [
       "array([[4.75, 5.36, 8.93, 4.88, 6.28, 2.85],\n",
       "       [3.83, 1.55, 8.08, 6.17, 3.02, 2.28],\n",
       "       [2.34, 6.11, 1.75, 2.95, 5.22, 8.54],\n",
       "       [7.04, 1.19, 3.71, 3.36, 4.62, 4.04]])"
      ]
     },
     "execution_count": 7,
     "metadata": {},
     "output_type": "execute_result"
    }
   ],
   "source": [
    "array3 = np.round(np.random.uniform(1, 9, (4, 6)), decimals=2)\n",
    "array3"
   ]
  },
  {
   "cell_type": "code",
   "execution_count": 8,
   "metadata": {},
   "outputs": [
    {
     "data": {
      "text/plain": [
       "array([7.04, 1.19, 3.71, 3.36, 4.62, 4.04])"
      ]
     },
     "execution_count": 8,
     "metadata": {},
     "output_type": "execute_result"
    }
   ],
   "source": [
    "array3 [-1]"
   ]
  },
  {
   "cell_type": "markdown",
   "metadata": {},
   "source": [
    "4. Crea un array NumPy 2D de forma (6, 4) con valores decimales entre 0 y 1. Accede a la segunda columna de la matriz. Los números deben estar redondeados a 2 decimales."
   ]
  },
  {
   "cell_type": "code",
   "execution_count": 9,
   "metadata": {},
   "outputs": [
    {
     "data": {
      "text/plain": [
       "array([[0.73, 0.72, 0.53, 0.35],\n",
       "       [0.83, 0.3 , 0.96, 0.39],\n",
       "       [0.93, 0.46, 0.32, 0.04],\n",
       "       [0.41, 0.99, 0.08, 0.11],\n",
       "       [0.18, 0.61, 0.62, 0.98],\n",
       "       [0.54, 0.41, 0.24, 0.27]])"
      ]
     },
     "execution_count": 9,
     "metadata": {},
     "output_type": "execute_result"
    }
   ],
   "source": [
    "array4 = np.round(np.random.rand (6,4), decimals = 2)\n",
    "array4"
   ]
  },
  {
   "cell_type": "code",
   "execution_count": 10,
   "metadata": {},
   "outputs": [
    {
     "data": {
      "text/plain": [
       "array([0.72, 0.3 , 0.46, 0.99, 0.61, 0.41])"
      ]
     },
     "execution_count": 10,
     "metadata": {},
     "output_type": "execute_result"
    }
   ],
   "source": [
    "array4[:,1]"
   ]
  },
  {
   "cell_type": "markdown",
   "metadata": {},
   "source": [
    "5. Crea un array 1D con 30 valores enteros aleatorios entre -50 y 50. Extrae los valores negativos."
   ]
  },
  {
   "cell_type": "code",
   "execution_count": 11,
   "metadata": {},
   "outputs": [
    {
     "data": {
      "text/plain": [
       "array([ -7,  14, -28, -25,   3,  37, -36,  21,   3, -33, -48, -24,  10,\n",
       "        30,   6,  43,  25, -49, -45, -30,   9,  15, -28, -30, -33, -20,\n",
       "       -32,  16, -25, -29])"
      ]
     },
     "execution_count": 11,
     "metadata": {},
     "output_type": "execute_result"
    }
   ],
   "source": [
    "array5 = np.random.randint (-50, 51, (30))\n",
    "array5"
   ]
  },
  {
   "cell_type": "code",
   "execution_count": 12,
   "metadata": {},
   "outputs": [
    {
     "data": {
      "text/plain": [
       "array([ -7, -28, -25, -36, -33, -48, -24, -49, -45, -30, -28, -30, -33,\n",
       "       -20, -32, -25, -29])"
      ]
     },
     "execution_count": 12,
     "metadata": {},
     "output_type": "execute_result"
    }
   ],
   "source": [
    "array_negativos = array5[array5 < 0]\n",
    "array_negativos"
   ]
  },
  {
   "cell_type": "markdown",
   "metadata": {},
   "source": [
    "6. Crea un array 1D con 10 valores entre 0 y 1. Redondea los decimales a 2. Obtén los elementos cuyo valor es mayor que 0.5. ¿En que posición/es están esos elementos?"
   ]
  },
  {
   "cell_type": "code",
   "execution_count": 13,
   "metadata": {},
   "outputs": [
    {
     "data": {
      "text/plain": [
       "array([0.58, 0.1 , 0.24, 0.78, 0.77, 0.58, 0.45, 0.76, 0.75, 0.47])"
      ]
     },
     "execution_count": 13,
     "metadata": {},
     "output_type": "execute_result"
    }
   ],
   "source": [
    "array6 = np.round (np.random.rand(10), decimals=2)\n",
    "array6"
   ]
  },
  {
   "cell_type": "code",
   "execution_count": 14,
   "metadata": {},
   "outputs": [
    {
     "data": {
      "text/plain": [
       "array([0.58, 0.78, 0.77, 0.58, 0.76, 0.75])"
      ]
     },
     "execution_count": 14,
     "metadata": {},
     "output_type": "execute_result"
    }
   ],
   "source": [
    "# los elementos están en las posiciones 1, 3, 4, 6, 7, 8, y 9\n",
    "array = array6 [array6 >0.5]\n",
    "array"
   ]
  },
  {
   "cell_type": "markdown",
   "metadata": {},
   "source": [
    "7. Crea un array 1D con 40 valores del 1 al 100 (ambos incluidos). Obtén los elementos que son divisibles por 3 y por 4."
   ]
  },
  {
   "cell_type": "code",
   "execution_count": 15,
   "metadata": {},
   "outputs": [
    {
     "data": {
      "text/plain": [
       "array([ 75,  65,  27,  33,  26,  91,  62,  11,  90,  21,  98,  25,  88,\n",
       "        19,  55,  81,  68,  37,  75,  55,   3,  94,  14,  25,  62,  13,\n",
       "        69, 100,  46,  58,  25,  15,  24,  67,  56,  14,  78,  48,  91,\n",
       "        17])"
      ]
     },
     "execution_count": 15,
     "metadata": {},
     "output_type": "execute_result"
    }
   ],
   "source": [
    "array7 = np.random.randint (1,101,(40))\n",
    "array7"
   ]
  },
  {
   "cell_type": "code",
   "execution_count": 16,
   "metadata": {},
   "outputs": [
    {
     "data": {
      "text/plain": [
       "array([75, 27, 33, 90, 81, 75,  3, 24, 48])"
      ]
     },
     "execution_count": 16,
     "metadata": {},
     "output_type": "execute_result"
    }
   ],
   "source": [
    "array_7 = array7 [(array7 %3 == 0) & (array7 &4 == 0)]\n",
    "array_7"
   ]
  },
  {
   "cell_type": "markdown",
   "metadata": {},
   "source": [
    "8. BONUS: Crea un array 3D de forma (2, 3, 5) y 30 elementos con números enteros entre 0 y 100 (ambos incluidos). Reemplaza los elementos en posiciones múltiplos de 3 por 0."
   ]
  },
  {
   "cell_type": "code",
   "execution_count": 33,
   "metadata": {},
   "outputs": [
    {
     "data": {
      "text/plain": [
       "array([17, 18, 12, 68,  2, 61, 55, 81, 21, 93, 21, 36, 58, 50,  5, 28, 70,\n",
       "       61, 19, 46, 25, 81, 78, 82, 58, 75, 51, 90, 80, 30])"
      ]
     },
     "execution_count": 33,
     "metadata": {},
     "output_type": "execute_result"
    }
   ],
   "source": [
    "array8 = np.random.randint (0,101,30)\n",
    "array8"
   ]
  },
  {
   "cell_type": "code",
   "execution_count": 34,
   "metadata": {},
   "outputs": [
    {
     "data": {
      "text/plain": [
       "array([17,  0,  0, 68,  2, 61, 55,  0,  0,  0,  0,  0, 58, 50,  5, 28, 70,\n",
       "       61, 19, 46, 25,  0,  0, 82, 58,  0,  0,  0, 80,  0])"
      ]
     },
     "execution_count": 34,
     "metadata": {},
     "output_type": "execute_result"
    }
   ],
   "source": [
    "array8 [array8 %3 == 0 ] = 0\n",
    "array8"
   ]
  },
  {
   "cell_type": "code",
   "execution_count": 35,
   "metadata": {},
   "outputs": [
    {
     "data": {
      "text/plain": [
       "array([[[17,  0,  0, 68,  2],\n",
       "        [61, 55,  0,  0,  0],\n",
       "        [ 0,  0, 58, 50,  5]],\n",
       "\n",
       "       [[28, 70, 61, 19, 46],\n",
       "        [25,  0,  0, 82, 58],\n",
       "        [ 0,  0,  0, 80,  0]]])"
      ]
     },
     "execution_count": 35,
     "metadata": {},
     "output_type": "execute_result"
    }
   ],
   "source": [
    "reshaped_array = np.reshape (array8, (2,3,5))\n",
    "reshaped_array"
   ]
  },
  {
   "cell_type": "markdown",
   "metadata": {},
   "source": [
    "## Reshape y Transpose:"
   ]
  },
  {
   "cell_type": "markdown",
   "metadata": {},
   "source": [
    "1. Crea un array 3D de forma (2, 3, 4) con valores aleatorios entre 1 y 100 (ambos inclusive). Utiliza reshape para convertirlo en un array 2D. Deberás pensar en la forma que es correcta para hacer este cambio."
   ]
  },
  {
   "cell_type": "code",
   "execution_count": null,
   "metadata": {},
   "outputs": [
    {
     "data": {
      "text/plain": [
       "array([[[46, 75,  6,  8],\n",
       "        [90, 19, 22, 35],\n",
       "        [47, 55,  6, 75]],\n",
       "\n",
       "       [[67,  7, 98, 14],\n",
       "        [67, 91, 68, 31],\n",
       "        [70, 18, 38, 65]]])"
      ]
     },
     "execution_count": 21,
     "metadata": {},
     "output_type": "execute_result"
    }
   ],
   "source": [
    "array_1 = np.random.randint (1,101, (2,3,4))\n",
    "array_1"
   ]
  },
  {
   "cell_type": "code",
   "execution_count": null,
   "metadata": {},
   "outputs": [
    {
     "data": {
      "text/plain": [
       "array([[46, 75,  6,  8],\n",
       "       [90, 19, 22, 35],\n",
       "       [47, 55,  6, 75],\n",
       "       [67,  7, 98, 14],\n",
       "       [67, 91, 68, 31],\n",
       "       [70, 18, 38, 65]])"
      ]
     },
     "execution_count": 22,
     "metadata": {},
     "output_type": "execute_result"
    }
   ],
   "source": [
    "reshaped_array = np.reshape (array_1, (6,4))\n",
    "reshaped_array"
   ]
  },
  {
   "cell_type": "code",
   "execution_count": null,
   "metadata": {},
   "outputs": [
    {
     "data": {
      "text/plain": [
       "array([[46, 75,  6,  8],\n",
       "       [90, 19, 22, 35],\n",
       "       [47, 55,  6, 75],\n",
       "       [67,  7, 98, 14],\n",
       "       [67, 91, 68, 31],\n",
       "       [70, 18, 38, 65]])"
      ]
     },
     "execution_count": 23,
     "metadata": {},
     "output_type": "execute_result"
    }
   ],
   "source": [
    "#otra forma de hacerlo sería:\n",
    "reshaped_array = np.reshape (array_1, (-1,4))\n",
    "reshaped_array"
   ]
  },
  {
   "cell_type": "markdown",
   "metadata": {},
   "source": [
    "2. Crea un array 3D de forma (3, 4, 5) con valores enteros del 1 al 60 (sin incluir). Utiliza reshape para convertirlo en un array 2D."
   ]
  },
  {
   "cell_type": "code",
   "execution_count": null,
   "metadata": {},
   "outputs": [
    {
     "data": {
      "text/plain": [
       "array([[[53, 26, 36, 44, 14],\n",
       "        [22, 54, 29, 34,  4],\n",
       "        [33, 11, 46, 25,  9],\n",
       "        [48,  5, 29, 11, 23]],\n",
       "\n",
       "       [[49, 25, 34, 34, 51],\n",
       "        [ 8, 59, 47, 58, 23],\n",
       "        [51, 38, 49, 23, 46],\n",
       "        [13, 20, 12, 12, 47]],\n",
       "\n",
       "       [[11, 24, 34, 53,  7],\n",
       "        [31, 29, 49, 28, 46],\n",
       "        [35, 19, 16, 43, 37],\n",
       "        [52, 36, 35, 35, 23]]])"
      ]
     },
     "execution_count": 24,
     "metadata": {},
     "output_type": "execute_result"
    }
   ],
   "source": [
    "array_2 = np.random.randint (1,60, (3,4,5))\n",
    "array_2"
   ]
  },
  {
   "cell_type": "code",
   "execution_count": null,
   "metadata": {},
   "outputs": [
    {
     "data": {
      "text/plain": [
       "array([[53, 26, 36, 44, 14, 22, 54, 29, 34,  4],\n",
       "       [33, 11, 46, 25,  9, 48,  5, 29, 11, 23],\n",
       "       [49, 25, 34, 34, 51,  8, 59, 47, 58, 23],\n",
       "       [51, 38, 49, 23, 46, 13, 20, 12, 12, 47],\n",
       "       [11, 24, 34, 53,  7, 31, 29, 49, 28, 46],\n",
       "       [35, 19, 16, 43, 37, 52, 36, 35, 35, 23]])"
      ]
     },
     "execution_count": 25,
     "metadata": {},
     "output_type": "execute_result"
    }
   ],
   "source": [
    "reshaped_array_2 = np.reshape (array_2, (6,10))\n",
    "reshaped_array_2"
   ]
  },
  {
   "cell_type": "markdown",
   "metadata": {},
   "source": [
    "3. Crea un array 3D de forma (4, 3, 2) con valores aleatorios entre 0 y 1. Utiliza reshape para convertirlo en un array 2D."
   ]
  },
  {
   "cell_type": "code",
   "execution_count": null,
   "metadata": {},
   "outputs": [
    {
     "data": {
      "text/plain": [
       "array([[[0.79463835, 0.11675356],\n",
       "        [0.68153607, 0.30517563],\n",
       "        [0.14934889, 0.6487142 ]],\n",
       "\n",
       "       [[0.48957806, 0.87438639],\n",
       "        [0.37238088, 0.96298892],\n",
       "        [0.32323312, 0.28665343]],\n",
       "\n",
       "       [[0.85790159, 0.15271869],\n",
       "        [0.6064677 , 0.09637331],\n",
       "        [0.60414664, 0.92731767]],\n",
       "\n",
       "       [[0.43520413, 0.34427726],\n",
       "        [0.04768062, 0.37694708],\n",
       "        [0.83183448, 0.72408611]]])"
      ]
     },
     "execution_count": 26,
     "metadata": {},
     "output_type": "execute_result"
    }
   ],
   "source": [
    "array_3 = np.random.rand (4,3,2)\n",
    "array_3"
   ]
  },
  {
   "cell_type": "code",
   "execution_count": null,
   "metadata": {},
   "outputs": [
    {
     "data": {
      "text/plain": [
       "array([[0.79463835, 0.11675356, 0.68153607, 0.30517563, 0.14934889,\n",
       "        0.6487142 , 0.48957806, 0.87438639],\n",
       "       [0.37238088, 0.96298892, 0.32323312, 0.28665343, 0.85790159,\n",
       "        0.15271869, 0.6064677 , 0.09637331],\n",
       "       [0.60414664, 0.92731767, 0.43520413, 0.34427726, 0.04768062,\n",
       "        0.37694708, 0.83183448, 0.72408611]])"
      ]
     },
     "execution_count": 27,
     "metadata": {},
     "output_type": "execute_result"
    }
   ],
   "source": [
    "reshaped_3 = np.reshape (array_3, (3,8))\n",
    "reshaped_3"
   ]
  },
  {
   "cell_type": "markdown",
   "metadata": {},
   "source": [
    "## Ejercicios con transpose:"
   ]
  },
  {
   "cell_type": "markdown",
   "metadata": {},
   "source": [
    "4. Utiliza el array 3D del ejercicio 2 de reshape. Utiliza transpose para permutar los ejes y obtener un nuevo array con forma (5, 4, 3)."
   ]
  },
  {
   "cell_type": "code",
   "execution_count": null,
   "metadata": {},
   "outputs": [
    {
     "data": {
      "text/plain": [
       "array([[[53, 26, 36, 44, 14],\n",
       "        [22, 54, 29, 34,  4],\n",
       "        [33, 11, 46, 25,  9],\n",
       "        [48,  5, 29, 11, 23]],\n",
       "\n",
       "       [[49, 25, 34, 34, 51],\n",
       "        [ 8, 59, 47, 58, 23],\n",
       "        [51, 38, 49, 23, 46],\n",
       "        [13, 20, 12, 12, 47]],\n",
       "\n",
       "       [[11, 24, 34, 53,  7],\n",
       "        [31, 29, 49, 28, 46],\n",
       "        [35, 19, 16, 43, 37],\n",
       "        [52, 36, 35, 35, 23]]])"
      ]
     },
     "execution_count": 28,
     "metadata": {},
     "output_type": "execute_result"
    }
   ],
   "source": [
    "array_2"
   ]
  },
  {
   "cell_type": "code",
   "execution_count": null,
   "metadata": {},
   "outputs": [
    {
     "data": {
      "text/plain": [
       "array([[[53, 49, 11],\n",
       "        [22,  8, 31],\n",
       "        [33, 51, 35],\n",
       "        [48, 13, 52]],\n",
       "\n",
       "       [[26, 25, 24],\n",
       "        [54, 59, 29],\n",
       "        [11, 38, 19],\n",
       "        [ 5, 20, 36]],\n",
       "\n",
       "       [[36, 34, 34],\n",
       "        [29, 47, 49],\n",
       "        [46, 49, 16],\n",
       "        [29, 12, 35]],\n",
       "\n",
       "       [[44, 34, 53],\n",
       "        [34, 58, 28],\n",
       "        [25, 23, 43],\n",
       "        [11, 12, 35]],\n",
       "\n",
       "       [[14, 51,  7],\n",
       "        [ 4, 23, 46],\n",
       "        [ 9, 46, 37],\n",
       "        [23, 47, 23]]])"
      ]
     },
     "execution_count": 29,
     "metadata": {},
     "output_type": "execute_result"
    }
   ],
   "source": [
    "transposed_array = np.transpose (array_2)\n",
    "transposed_array"
   ]
  },
  {
   "cell_type": "markdown",
   "metadata": {},
   "source": [
    "5. Utiliza el array 3D del ejercicio 3 de reshape. Utiliza transpose para cambiar el orden de los ejes y obtener un nuevo array con forma (3, 2, 4)."
   ]
  },
  {
   "cell_type": "code",
   "execution_count": null,
   "metadata": {},
   "outputs": [
    {
     "data": {
      "text/plain": [
       "array([[[0.79463835, 0.11675356],\n",
       "        [0.68153607, 0.30517563],\n",
       "        [0.14934889, 0.6487142 ]],\n",
       "\n",
       "       [[0.48957806, 0.87438639],\n",
       "        [0.37238088, 0.96298892],\n",
       "        [0.32323312, 0.28665343]],\n",
       "\n",
       "       [[0.85790159, 0.15271869],\n",
       "        [0.6064677 , 0.09637331],\n",
       "        [0.60414664, 0.92731767]],\n",
       "\n",
       "       [[0.43520413, 0.34427726],\n",
       "        [0.04768062, 0.37694708],\n",
       "        [0.83183448, 0.72408611]]])"
      ]
     },
     "execution_count": 30,
     "metadata": {},
     "output_type": "execute_result"
    }
   ],
   "source": [
    "array_3"
   ]
  },
  {
   "cell_type": "code",
   "execution_count": null,
   "metadata": {},
   "outputs": [
    {
     "data": {
      "text/plain": [
       "24"
      ]
     },
     "execution_count": 31,
     "metadata": {},
     "output_type": "execute_result"
    }
   ],
   "source": [
    "np.size (array_3)"
   ]
  },
  {
   "cell_type": "code",
   "execution_count": null,
   "metadata": {},
   "outputs": [
    {
     "data": {
      "text/plain": [
       "(4, 3, 2)"
      ]
     },
     "execution_count": 32,
     "metadata": {},
     "output_type": "execute_result"
    }
   ],
   "source": [
    "np.shape (array_3)"
   ]
  },
  {
   "cell_type": "code",
   "execution_count": null,
   "metadata": {},
   "outputs": [
    {
     "data": {
      "text/plain": [
       "array([[[0.79463835, 0.48957806, 0.85790159, 0.43520413],\n",
       "        [0.11675356, 0.87438639, 0.15271869, 0.34427726]],\n",
       "\n",
       "       [[0.68153607, 0.37238088, 0.6064677 , 0.04768062],\n",
       "        [0.30517563, 0.96298892, 0.09637331, 0.37694708]],\n",
       "\n",
       "       [[0.14934889, 0.32323312, 0.60414664, 0.83183448],\n",
       "        [0.6487142 , 0.28665343, 0.92731767, 0.72408611]]])"
      ]
     },
     "execution_count": 33,
     "metadata": {},
     "output_type": "execute_result"
    }
   ],
   "source": [
    "#al transpose se le indican los índices del shape original\n",
    "transposed_array2 = np.transpose (array_3, (1,2,0))\n",
    "transposed_array2"
   ]
  },
  {
   "cell_type": "markdown",
   "metadata": {},
   "source": [
    "# Preguntas teóricas:"
   ]
  },
  {
   "cell_type": "markdown",
   "metadata": {},
   "source": [
    "6. ¿Qué diferencia existe entre el reshape y el transpose?"
   ]
  },
  {
   "cell_type": "markdown",
   "metadata": {},
   "source": [
    "*reshape* se utiliza para cambiar las dimensiones de un array mientras que *transpose* se utiliza para intercambiar las dimensiones de un array, es decir, toma como argumento un *array* y devuelve una nueva *array* con las dimensiones intercambiadas."
   ]
  },
  {
   "cell_type": "markdown",
   "metadata": {},
   "source": [
    "7. ¿Y entre el transpose y el swapaxes?"
   ]
  },
  {
   "cell_type": "markdown",
   "metadata": {},
   "source": [
    "*transpose* permite permutar todas las dimensiones de un array multidimensional, mientras que *swapaxes* solo intercambia dos dimensiones específicas."
   ]
  },
  {
   "cell_type": "markdown",
   "metadata": {},
   "source": [
    "## Funciones Aritméticas y Estadísticas:"
   ]
  },
  {
   "cell_type": "markdown",
   "metadata": {},
   "source": [
    "1. Crea un array de tres 3D con elementos entre el 0 y 1 de forma (2, 3, 5) cuyos valores solo tengan 1 decimal."
   ]
  },
  {
   "cell_type": "code",
   "execution_count": null,
   "metadata": {},
   "outputs": [
    {
     "data": {
      "text/plain": [
       "array([[[0.42171048, 0.02452492, 0.59040051, 0.74427804, 0.8024387 ],\n",
       "        [0.93349809, 0.44497035, 0.85650804, 0.09408377, 0.50847907],\n",
       "        [0.79279295, 0.98715698, 0.7956057 , 0.07549631, 0.41995004]],\n",
       "\n",
       "       [[0.37416605, 0.66501158, 0.49533009, 0.10884514, 0.3390317 ],\n",
       "        [0.45909288, 0.42134158, 0.46328817, 0.5649528 , 0.78368882],\n",
       "        [0.41235799, 0.96883378, 0.99633507, 0.40138025, 0.41827355]]])"
      ]
     },
     "execution_count": 21,
     "metadata": {},
     "output_type": "execute_result"
    }
   ],
   "source": [
    "array = np.random.random_sample((2,3,5))\n",
    "array"
   ]
  },
  {
   "cell_type": "markdown",
   "metadata": {},
   "source": [
    "2. Crea un array vacío con la misma forma y dimensiones que el array creado anteriormente. Vamos a reemplazar los valores de la matriz vacía que nos acabamos de crear pero basándonos en los valores del primer array bajo las siguientes condiciones:\n",
    "- Si el valor del array es igual que la media, se reemplaza por \"A\".\n",
    "- Si el valor del array es mayor que la media, se reemplaza por \"B\".\n",
    "- Si el valor del array es menor que la media, se reemplaza por \"C\".\n",
    "- Si el valor es igual que el máximo, se reemplaza por \"D\".\n",
    "- Si el valor es igual que el mínimo, se reemplaza por \"E\".\n",
    "\n"
   ]
  },
  {
   "cell_type": "code",
   "execution_count": null,
   "metadata": {},
   "outputs": [],
   "source": [
    "media = np.mean(array)\n",
    "max = np.max(array)\n",
    "min = np.min(array)"
   ]
  },
  {
   "cell_type": "code",
   "execution_count": null,
   "metadata": {},
   "outputs": [
    {
     "data": {
      "text/plain": [
       "False"
      ]
     },
     "execution_count": 35,
     "metadata": {},
     "output_type": "execute_result"
    }
   ],
   "source": [
    "array[0][0][0] == media"
   ]
  },
  {
   "cell_type": "code",
   "execution_count": null,
   "metadata": {},
   "outputs": [
    {
     "data": {
      "text/plain": [
       "(2, 3, 5)"
      ]
     },
     "execution_count": 26,
     "metadata": {},
     "output_type": "execute_result"
    }
   ],
   "source": [
    "array.shape"
   ]
  },
  {
   "cell_type": "code",
   "execution_count": null,
   "metadata": {},
   "outputs": [
    {
     "data": {
      "text/plain": [
       "array([[['', '', '', '', ''],\n",
       "        ['', '', '', '', ''],\n",
       "        ['', '', '', '', '']],\n",
       "\n",
       "       [['', '', '', '', ''],\n",
       "        ['', '', '', '', ''],\n",
       "        ['', '', '', '', '']]], dtype='<U1')"
      ]
     },
     "execution_count": 27,
     "metadata": {},
     "output_type": "execute_result"
    }
   ],
   "source": [
    "vacio = np.empty_like(array, dtype =str)\n",
    "vacio"
   ]
  },
  {
   "cell_type": "code",
   "execution_count": null,
   "metadata": {},
   "outputs": [],
   "source": [
    "#cleamos un bucle for para acceder a cada uno de los elementos\n",
    "for matriz in range (2):\n",
    "    for fila in range (3):\n",
    "        for col in range (5):\n",
    "            if array[matriz][fila][col] == media:\n",
    "                vacio [matriz][fila][col] = 'A'\n",
    "            elif array[matriz][fila][col] == max:\n",
    "                vacio [matriz][fila][col] = 'D'\n",
    "            elif array[matriz][fila][col] == min:\n",
    "                vacio [matriz][fila][col] = 'E'\n",
    "            elif array[matriz][fila][col] > media:\n",
    "                vacio [matriz][fila][col] = 'B'\n",
    "            elif array[matriz][fila][col] < media:\n",
    "                vacio [matriz][fila][col] = 'C'\n",
    "            "
   ]
  },
  {
   "cell_type": "code",
   "execution_count": null,
   "metadata": {},
   "outputs": [],
   "source": [
    "#cleamos un bucle for para acceder a cada uno de los elementos (este bucle podemos utilizarlo para cualquier matriz de cualquier dimension)\n",
    "for matriz in range (array.shape[0]):\n",
    "    for fila in range (array.shape[1]):\n",
    "        for col in range (array.shape[2]):\n",
    "            if array[matriz][fila][col] == media:\n",
    "                vacio [matriz][fila][col] = 'A'\n",
    "            elif array[matriz][fila][col] == max:\n",
    "                vacio [matriz][fila][col] = 'D'\n",
    "            elif array[matriz][fila][col] == min:\n",
    "                vacio [matriz][fila][col] = 'E'\n",
    "            elif array[matriz][fila][col] > media:\n",
    "                vacio [matriz][fila][col] = 'B'\n",
    "            elif array[matriz][fila][col] < media:\n",
    "                vacio [matriz][fila][col] = 'C'"
   ]
  },
  {
   "cell_type": "code",
   "execution_count": null,
   "metadata": {},
   "outputs": [
    {
     "data": {
      "text/plain": [
       "array([[['C', 'E', 'B', 'B', 'B'],\n",
       "        ['B', 'C', 'B', 'C', 'C'],\n",
       "        ['B', 'B', 'B', 'C', 'C']],\n",
       "\n",
       "       [['C', 'B', 'C', 'C', 'C'],\n",
       "        ['C', 'C', 'C', 'B', 'B'],\n",
       "        ['C', 'B', 'D', 'C', 'C']]], dtype='<U1')"
      ]
     },
     "execution_count": 38,
     "metadata": {},
     "output_type": "execute_result"
    }
   ],
   "source": [
    "vacio"
   ]
  }
 ],
 "metadata": {
  "kernelspec": {
   "display_name": "base",
   "language": "python",
   "name": "python3"
  },
  "language_info": {
   "codemirror_mode": {
    "name": "ipython",
    "version": 3
   },
   "file_extension": ".py",
   "mimetype": "text/x-python",
   "name": "python",
   "nbconvert_exporter": "python",
   "pygments_lexer": "ipython3",
   "version": "3.9.7"
  }
 },
 "nbformat": 4,
 "nbformat_minor": 2
}
